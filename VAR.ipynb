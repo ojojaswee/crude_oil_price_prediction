{
 "cells": [
  {
   "cell_type": "code",
   "execution_count": 1,
   "id": "bd6ae560",
   "metadata": {},
   "outputs": [],
   "source": [
    "import pandas as pd\n",
    "import numpy as np\n",
    "import matplotlib.pyplot as plt\n",
    "import seaborn as sns\n",
    "from datetime import date\n",
    "import statsmodels.api as sm\n",
    "import itertools\n",
    "from sklearn.preprocessing import MinMaxScaler\n",
    "import plotly.express as px\n",
    "from scipy.stats import zscore as zs\n",
    "from scipy import linalg as scipy_linalg\n",
    "from sklearn.model_selection import train_test_split as split\n",
    "# from keras.models import Sequential\n",
    "# from keras.layers import Dense, Dropout, LSTM, GRU\n",
    "# from sklearn.metrics import mean_squared_error, r2_score, mean_absolute_error, median_absolute_error, mean_squared_log_error\n",
    "from numpy.random import seed\n",
    "seed(1)\n",
    "# import tensorflow\n",
    "# tensorflow.random.set_seed(1)\n",
    "# from google.colab import files\n",
    "# from keras.optimizers import SGD\n",
    "from IPython.display import display, Image\n",
    "import warnings\n",
    "warnings.filterwarnings(\"ignore\")\n"
   ]
  },
  {
   "cell_type": "code",
   "execution_count": 2,
   "id": "08435319",
   "metadata": {},
   "outputs": [],
   "source": [
    "df = pd.read_csv(\"COMBINED.csv\")"
   ]
  },
  {
   "cell_type": "code",
   "execution_count": 3,
   "id": "715f1c8f",
   "metadata": {},
   "outputs": [
    {
     "data": {
      "text/html": [
       "<div>\n",
       "<style scoped>\n",
       "    .dataframe tbody tr th:only-of-type {\n",
       "        vertical-align: middle;\n",
       "    }\n",
       "\n",
       "    .dataframe tbody tr th {\n",
       "        vertical-align: top;\n",
       "    }\n",
       "\n",
       "    .dataframe thead th {\n",
       "        text-align: right;\n",
       "    }\n",
       "</style>\n",
       "<table border=\"1\" class=\"dataframe\">\n",
       "  <thead>\n",
       "    <tr style=\"text-align: right;\">\n",
       "      <th></th>\n",
       "      <th>Date</th>\n",
       "      <th>WTI</th>\n",
       "      <th>GOLD</th>\n",
       "      <th>SP 500</th>\n",
       "      <th>US DOLLAR INDEX</th>\n",
       "      <th>US 10YR BOND</th>\n",
       "      <th>DJU</th>\n",
       "    </tr>\n",
       "  </thead>\n",
       "  <tbody>\n",
       "    <tr>\n",
       "      <th>0</th>\n",
       "      <td>04-01-2000</td>\n",
       "      <td>25.55</td>\n",
       "      <td>282.7</td>\n",
       "      <td>1411.75</td>\n",
       "      <td>100.10</td>\n",
       "      <td>6.499</td>\n",
       "      <td>289.10</td>\n",
       "    </tr>\n",
       "    <tr>\n",
       "      <th>1</th>\n",
       "      <td>05-01-2000</td>\n",
       "      <td>24.91</td>\n",
       "      <td>281.1</td>\n",
       "      <td>1413.50</td>\n",
       "      <td>100.05</td>\n",
       "      <td>6.599</td>\n",
       "      <td>292.64</td>\n",
       "    </tr>\n",
       "    <tr>\n",
       "      <th>2</th>\n",
       "      <td>06-01-2000</td>\n",
       "      <td>24.78</td>\n",
       "      <td>281.4</td>\n",
       "      <td>1404.00</td>\n",
       "      <td>100.34</td>\n",
       "      <td>6.540</td>\n",
       "      <td>297.70</td>\n",
       "    </tr>\n",
       "    <tr>\n",
       "      <th>4</th>\n",
       "      <td>10-01-2000</td>\n",
       "      <td>24.67</td>\n",
       "      <td>281.7</td>\n",
       "      <td>1475.00</td>\n",
       "      <td>100.65</td>\n",
       "      <td>6.554</td>\n",
       "      <td>294.37</td>\n",
       "    </tr>\n",
       "    <tr>\n",
       "      <th>5</th>\n",
       "      <td>11-01-2000</td>\n",
       "      <td>25.77</td>\n",
       "      <td>283.4</td>\n",
       "      <td>1454.25</td>\n",
       "      <td>100.26</td>\n",
       "      <td>6.659</td>\n",
       "      <td>298.00</td>\n",
       "    </tr>\n",
       "  </tbody>\n",
       "</table>\n",
       "</div>"
      ],
      "text/plain": [
       "         Date    WTI   GOLD   SP 500  US DOLLAR INDEX  US 10YR BOND     DJU\n",
       "0  04-01-2000  25.55  282.7  1411.75           100.10         6.499  289.10\n",
       "1  05-01-2000  24.91  281.1  1413.50           100.05         6.599  292.64\n",
       "2  06-01-2000  24.78  281.4  1404.00           100.34         6.540  297.70\n",
       "4  10-01-2000  24.67  281.7  1475.00           100.65         6.554  294.37\n",
       "5  11-01-2000  25.77  283.4  1454.25           100.26         6.659  298.00"
      ]
     },
     "execution_count": 3,
     "metadata": {},
     "output_type": "execute_result"
    }
   ],
   "source": [
    "df.dropna().head(5)"
   ]
  },
  {
   "cell_type": "code",
   "execution_count": 4,
   "id": "14e78292",
   "metadata": {
    "scrolled": true
   },
   "outputs": [
    {
     "data": {
      "text/html": [
       "<div>\n",
       "<style scoped>\n",
       "    .dataframe tbody tr th:only-of-type {\n",
       "        vertical-align: middle;\n",
       "    }\n",
       "\n",
       "    .dataframe tbody tr th {\n",
       "        vertical-align: top;\n",
       "    }\n",
       "\n",
       "    .dataframe thead th {\n",
       "        text-align: right;\n",
       "    }\n",
       "</style>\n",
       "<table border=\"1\" class=\"dataframe\">\n",
       "  <thead>\n",
       "    <tr style=\"text-align: right;\">\n",
       "      <th></th>\n",
       "      <th>Date</th>\n",
       "      <th>WTI</th>\n",
       "      <th>GOLD</th>\n",
       "      <th>SP 500</th>\n",
       "      <th>US DOLLAR INDEX</th>\n",
       "      <th>US 10YR BOND</th>\n",
       "      <th>DJU</th>\n",
       "    </tr>\n",
       "  </thead>\n",
       "  <tbody>\n",
       "    <tr>\n",
       "      <th>0</th>\n",
       "      <td>2000-01-04</td>\n",
       "      <td>25.55</td>\n",
       "      <td>282.7</td>\n",
       "      <td>1411.75</td>\n",
       "      <td>100.10</td>\n",
       "      <td>6.499</td>\n",
       "      <td>289.10</td>\n",
       "    </tr>\n",
       "    <tr>\n",
       "      <th>1</th>\n",
       "      <td>2000-01-05</td>\n",
       "      <td>24.91</td>\n",
       "      <td>281.1</td>\n",
       "      <td>1413.50</td>\n",
       "      <td>100.05</td>\n",
       "      <td>6.599</td>\n",
       "      <td>292.64</td>\n",
       "    </tr>\n",
       "    <tr>\n",
       "      <th>2</th>\n",
       "      <td>2000-01-06</td>\n",
       "      <td>24.78</td>\n",
       "      <td>281.4</td>\n",
       "      <td>1404.00</td>\n",
       "      <td>100.34</td>\n",
       "      <td>6.540</td>\n",
       "      <td>297.70</td>\n",
       "    </tr>\n",
       "    <tr>\n",
       "      <th>3</th>\n",
       "      <td>2000-01-07</td>\n",
       "      <td>24.22</td>\n",
       "      <td>281.9</td>\n",
       "      <td>1460.50</td>\n",
       "      <td>100.50</td>\n",
       "      <td>6.513</td>\n",
       "      <td>NaN</td>\n",
       "    </tr>\n",
       "    <tr>\n",
       "      <th>4</th>\n",
       "      <td>2000-01-10</td>\n",
       "      <td>24.67</td>\n",
       "      <td>281.7</td>\n",
       "      <td>1475.00</td>\n",
       "      <td>100.65</td>\n",
       "      <td>6.554</td>\n",
       "      <td>294.37</td>\n",
       "    </tr>\n",
       "  </tbody>\n",
       "</table>\n",
       "</div>"
      ],
      "text/plain": [
       "        Date    WTI   GOLD   SP 500  US DOLLAR INDEX  US 10YR BOND     DJU\n",
       "0 2000-01-04  25.55  282.7  1411.75           100.10         6.499  289.10\n",
       "1 2000-01-05  24.91  281.1  1413.50           100.05         6.599  292.64\n",
       "2 2000-01-06  24.78  281.4  1404.00           100.34         6.540  297.70\n",
       "3 2000-01-07  24.22  281.9  1460.50           100.50         6.513     NaN\n",
       "4 2000-01-10  24.67  281.7  1475.00           100.65         6.554  294.37"
      ]
     },
     "execution_count": 4,
     "metadata": {},
     "output_type": "execute_result"
    }
   ],
   "source": [
    "df['Date'] = pd.to_datetime(df['Date'],format='%d-%m-%Y')\n",
    "df.head()"
   ]
  },
  {
   "cell_type": "code",
   "execution_count": 5,
   "id": "81597ef2",
   "metadata": {},
   "outputs": [],
   "source": [
    "df.set_index('Date',inplace=True)"
   ]
  },
  {
   "cell_type": "code",
   "execution_count": 6,
   "id": "b9f676c2",
   "metadata": {},
   "outputs": [],
   "source": [
    "def adf_test(series,title=''):\n",
    "    \"\"\"\n",
    "    Pass in a time series and an optional title, returns an ADF report\n",
    "    \"\"\"\n",
    "    print(f'Augmented Dickey-Fuller Test: {title}')\n",
    "    result = adfuller(series.dropna(),autolag='AIC') # .dropna() handles differenced data\n",
    "    labels = ['ADF test statistic','p-value','# lags used','# observations']\n",
    "    out = pd.Series(result[0:4],index=labels)\n",
    "    for key,val in result[4].items():\n",
    "        out[f'critical value ({key})']=val\n",
    "    print(out.to_string())          # .to_string() removes the line \"dtype: float64\"\n",
    "    if result[1] <= 0.05:\n",
    "        print(\"Strong evidence against the null hypothesis\")\n",
    "        print(\"Reject the null hypothesis\")\n",
    "        print(\"Data has no unit root and is stationary\")\n",
    "    else:\n",
    "        print(\"Weak evidence against the null hypothesis\")\n",
    "        print(\"Fail to reject the null hypothesis\")\n",
    "        print(\"Data has a unit root and is non-stationary\")"
   ]
  },
  {
   "cell_type": "code",
   "execution_count": 7,
   "id": "066ed1be",
   "metadata": {},
   "outputs": [],
   "source": [
    "from statsmodels.tsa.stattools import adfuller\n",
    "import pandas as pd"
   ]
  },
  {
   "cell_type": "code",
   "execution_count": 8,
   "id": "e45434df",
   "metadata": {},
   "outputs": [
    {
     "name": "stdout",
     "output_type": "stream",
     "text": [
      "Augmented Dickey-Fuller Test: \n",
      "ADF test statistic        -1.183290\n",
      "p-value                    0.680742\n",
      "# lags used               12.000000\n",
      "# observations          4928.000000\n",
      "critical value (1%)       -3.431678\n",
      "critical value (5%)       -2.862127\n",
      "critical value (10%)      -2.567082\n",
      "Weak evidence against the null hypothesis\n",
      "Fail to reject the null hypothesis\n",
      "Data has a unit root and is non-stationary\n"
     ]
    }
   ],
   "source": [
    "adf_test(df['GOLD'])"
   ]
  },
  {
   "cell_type": "code",
   "execution_count": 9,
   "id": "1ad89ca7",
   "metadata": {},
   "outputs": [
    {
     "name": "stdout",
     "output_type": "stream",
     "text": [
      "Augmented Dickey-Fuller Test: \n",
      "ADF test statistic        -2.004742\n",
      "p-value                    0.284498\n",
      "# lags used                5.000000\n",
      "# observations          4941.000000\n",
      "critical value (1%)       -3.431674\n",
      "critical value (5%)       -2.862125\n",
      "critical value (10%)      -2.567081\n",
      "Weak evidence against the null hypothesis\n",
      "Fail to reject the null hypothesis\n",
      "Data has a unit root and is non-stationary\n"
     ]
    }
   ],
   "source": [
    "adf_test(df['WTI'])"
   ]
  },
  {
   "cell_type": "code",
   "execution_count": 10,
   "id": "2ffc0aac",
   "metadata": {},
   "outputs": [
    {
     "name": "stdout",
     "output_type": "stream",
     "text": [
      "Augmented Dickey-Fuller Test: \n",
      "ADF test statistic         0.825767\n",
      "p-value                    0.992041\n",
      "# lags used               22.000000\n",
      "# observations          4923.000000\n",
      "critical value (1%)       -3.431679\n",
      "critical value (5%)       -2.862127\n",
      "critical value (10%)      -2.567083\n",
      "Weak evidence against the null hypothesis\n",
      "Fail to reject the null hypothesis\n",
      "Data has a unit root and is non-stationary\n"
     ]
    }
   ],
   "source": [
    "adf_test(df['SP 500'])"
   ]
  },
  {
   "cell_type": "code",
   "execution_count": 11,
   "id": "c354e39d",
   "metadata": {},
   "outputs": [
    {
     "name": "stdout",
     "output_type": "stream",
     "text": [
      "Augmented Dickey-Fuller Test: \n",
      "ADF test statistic        -1.641191\n",
      "p-value                    0.461638\n",
      "# lags used               32.000000\n",
      "# observations          4884.000000\n",
      "critical value (1%)       -3.431690\n",
      "critical value (5%)       -2.862132\n",
      "critical value (10%)      -2.567085\n",
      "Weak evidence against the null hypothesis\n",
      "Fail to reject the null hypothesis\n",
      "Data has a unit root and is non-stationary\n"
     ]
    }
   ],
   "source": [
    "adf_test(df['US DOLLAR INDEX'])"
   ]
  },
  {
   "cell_type": "code",
   "execution_count": 12,
   "id": "462a6d2d",
   "metadata": {},
   "outputs": [
    {
     "name": "stdout",
     "output_type": "stream",
     "text": [
      "Augmented Dickey-Fuller Test: \n",
      "ADF test statistic        -2.394015\n",
      "p-value                    0.143433\n",
      "# lags used                2.000000\n",
      "# observations          4917.000000\n",
      "critical value (1%)       -3.431681\n",
      "critical value (5%)       -2.862128\n",
      "critical value (10%)      -2.567083\n",
      "Weak evidence against the null hypothesis\n",
      "Fail to reject the null hypothesis\n",
      "Data has a unit root and is non-stationary\n"
     ]
    }
   ],
   "source": [
    "adf_test(df['US 10YR BOND'])"
   ]
  },
  {
   "cell_type": "code",
   "execution_count": 13,
   "id": "dc93ca0e",
   "metadata": {},
   "outputs": [
    {
     "name": "stdout",
     "output_type": "stream",
     "text": [
      "Augmented Dickey-Fuller Test: \n",
      "ADF test statistic         0.043525\n",
      "p-value                    0.961987\n",
      "# lags used                9.000000\n",
      "# observations          4849.000000\n",
      "critical value (1%)       -3.431699\n",
      "critical value (5%)       -2.862136\n",
      "critical value (10%)      -2.567087\n",
      "Weak evidence against the null hypothesis\n",
      "Fail to reject the null hypothesis\n",
      "Data has a unit root and is non-stationary\n"
     ]
    }
   ],
   "source": [
    "adf_test(df['DJU'])"
   ]
  },
  {
   "cell_type": "code",
   "execution_count": 14,
   "id": "e6db3f96",
   "metadata": {},
   "outputs": [],
   "source": [
    "# train = df[:int(0.95*(len(df)))]\n",
    "test_orig = df[int(0.95*(len(df))):]"
   ]
  },
  {
   "cell_type": "code",
   "execution_count": 15,
   "id": "791c8276",
   "metadata": {},
   "outputs": [],
   "source": [
    "df_difference = df.diff()"
   ]
  },
  {
   "cell_type": "code",
   "execution_count": 16,
   "id": "964cebe2",
   "metadata": {},
   "outputs": [
    {
     "name": "stdout",
     "output_type": "stream",
     "text": [
      "Augmented Dickey-Fuller Test: \n",
      "ADF test statistic       -32.079650\n",
      "p-value                    0.000000\n",
      "# lags used                4.000000\n",
      "# observations          4941.000000\n",
      "critical value (1%)       -3.431674\n",
      "critical value (5%)       -2.862125\n",
      "critical value (10%)      -2.567081\n",
      "Strong evidence against the null hypothesis\n",
      "Reject the null hypothesis\n",
      "Data has no unit root and is stationary\n"
     ]
    }
   ],
   "source": [
    "adf_test(df_difference['WTI'])"
   ]
  },
  {
   "cell_type": "code",
   "execution_count": 17,
   "id": "7f13d529",
   "metadata": {},
   "outputs": [
    {
     "name": "stdout",
     "output_type": "stream",
     "text": [
      "Augmented Dickey-Fuller Test: \n",
      "ADF test statistic       -21.505587\n",
      "p-value                    0.000000\n",
      "# lags used               11.000000\n",
      "# observations          4922.000000\n",
      "critical value (1%)       -3.431679\n",
      "critical value (5%)       -2.862127\n",
      "critical value (10%)      -2.567083\n",
      "Strong evidence against the null hypothesis\n",
      "Reject the null hypothesis\n",
      "Data has no unit root and is stationary\n"
     ]
    }
   ],
   "source": [
    "adf_test(df_difference['GOLD'])"
   ]
  },
  {
   "cell_type": "code",
   "execution_count": 18,
   "id": "e2eb9276",
   "metadata": {},
   "outputs": [
    {
     "name": "stdout",
     "output_type": "stream",
     "text": [
      "Augmented Dickey-Fuller Test: \n",
      "ADF test statistic     -1.523056e+01\n",
      "p-value                 5.328680e-28\n",
      "# lags used             2.100000e+01\n",
      "# observations          4.922000e+03\n",
      "critical value (1%)    -3.431679e+00\n",
      "critical value (5%)    -2.862127e+00\n",
      "critical value (10%)   -2.567083e+00\n",
      "Strong evidence against the null hypothesis\n",
      "Reject the null hypothesis\n",
      "Data has no unit root and is stationary\n"
     ]
    }
   ],
   "source": [
    "adf_test(df_difference['SP 500'])"
   ]
  },
  {
   "cell_type": "code",
   "execution_count": 19,
   "id": "6d663982",
   "metadata": {},
   "outputs": [
    {
     "name": "stdout",
     "output_type": "stream",
     "text": [
      "Augmented Dickey-Fuller Test: \n",
      "ADF test statistic       -53.117305\n",
      "p-value                    0.000000\n",
      "# lags used                1.000000\n",
      "# observations          4890.000000\n",
      "critical value (1%)       -3.431688\n",
      "critical value (5%)       -2.862131\n",
      "critical value (10%)      -2.567085\n",
      "Strong evidence against the null hypothesis\n",
      "Reject the null hypothesis\n",
      "Data has no unit root and is stationary\n"
     ]
    }
   ],
   "source": [
    "adf_test(df_difference['US 10YR BOND'])"
   ]
  },
  {
   "cell_type": "code",
   "execution_count": 20,
   "id": "9ca2b70b",
   "metadata": {},
   "outputs": [
    {
     "name": "stdout",
     "output_type": "stream",
     "text": [
      "Augmented Dickey-Fuller Test: \n",
      "ADF test statistic       -25.303575\n",
      "p-value                    0.000000\n",
      "# lags used                8.000000\n",
      "# observations          4785.000000\n",
      "critical value (1%)       -3.431717\n",
      "critical value (5%)       -2.862144\n",
      "critical value (10%)      -2.567092\n",
      "Strong evidence against the null hypothesis\n",
      "Reject the null hypothesis\n",
      "Data has no unit root and is stationary\n"
     ]
    }
   ],
   "source": [
    "adf_test(df_difference['DJU'])"
   ]
  },
  {
   "cell_type": "code",
   "execution_count": 21,
   "id": "ee50e13d",
   "metadata": {},
   "outputs": [
    {
     "name": "stdout",
     "output_type": "stream",
     "text": [
      "Augmented Dickey-Fuller Test: \n",
      "ADF test statistic     -1.504227e+01\n",
      "p-value                 9.554975e-28\n",
      "# lags used             2.000000e+01\n",
      "# observations          4.865000e+03\n",
      "critical value (1%)    -3.431695e+00\n",
      "critical value (5%)    -2.862134e+00\n",
      "critical value (10%)   -2.567086e+00\n",
      "Strong evidence against the null hypothesis\n",
      "Reject the null hypothesis\n",
      "Data has no unit root and is stationary\n"
     ]
    }
   ],
   "source": [
    "adf_test(df_difference['US DOLLAR INDEX'])"
   ]
  },
  {
   "cell_type": "code",
   "execution_count": 22,
   "id": "3221dcad",
   "metadata": {},
   "outputs": [],
   "source": [
    "test_obs = 248\n",
    "train = df_difference[:-test_obs]\n",
    "test = df_difference[-test_obs:]\n",
    "#creating the train and validation set\n",
    "#train = df_difference[:int(0.95*(len(df_difference)))]\n",
    "#test = df_difference[int(0.95*(len(df_difference))):]"
   ]
  },
  {
   "cell_type": "code",
   "execution_count": 23,
   "id": "984cd242",
   "metadata": {
    "scrolled": true
   },
   "outputs": [
    {
     "data": {
      "text/html": [
       "<div>\n",
       "<style scoped>\n",
       "    .dataframe tbody tr th:only-of-type {\n",
       "        vertical-align: middle;\n",
       "    }\n",
       "\n",
       "    .dataframe tbody tr th {\n",
       "        vertical-align: top;\n",
       "    }\n",
       "\n",
       "    .dataframe thead th {\n",
       "        text-align: right;\n",
       "    }\n",
       "</style>\n",
       "<table border=\"1\" class=\"dataframe\">\n",
       "  <thead>\n",
       "    <tr style=\"text-align: right;\">\n",
       "      <th></th>\n",
       "      <th>WTI</th>\n",
       "      <th>GOLD</th>\n",
       "      <th>SP 500</th>\n",
       "      <th>US DOLLAR INDEX</th>\n",
       "      <th>US 10YR BOND</th>\n",
       "      <th>DJU</th>\n",
       "    </tr>\n",
       "    <tr>\n",
       "      <th>Date</th>\n",
       "      <th></th>\n",
       "      <th></th>\n",
       "      <th></th>\n",
       "      <th></th>\n",
       "      <th></th>\n",
       "      <th></th>\n",
       "    </tr>\n",
       "  </thead>\n",
       "  <tbody>\n",
       "    <tr>\n",
       "      <th>2000-01-04</th>\n",
       "      <td>NaN</td>\n",
       "      <td>NaN</td>\n",
       "      <td>NaN</td>\n",
       "      <td>NaN</td>\n",
       "      <td>NaN</td>\n",
       "      <td>NaN</td>\n",
       "    </tr>\n",
       "    <tr>\n",
       "      <th>2000-01-05</th>\n",
       "      <td>-0.64</td>\n",
       "      <td>-1.6</td>\n",
       "      <td>1.75</td>\n",
       "      <td>-0.05</td>\n",
       "      <td>0.100</td>\n",
       "      <td>3.54</td>\n",
       "    </tr>\n",
       "    <tr>\n",
       "      <th>2000-01-06</th>\n",
       "      <td>-0.13</td>\n",
       "      <td>0.3</td>\n",
       "      <td>-9.50</td>\n",
       "      <td>0.29</td>\n",
       "      <td>-0.059</td>\n",
       "      <td>5.06</td>\n",
       "    </tr>\n",
       "    <tr>\n",
       "      <th>2000-01-07</th>\n",
       "      <td>-0.56</td>\n",
       "      <td>0.5</td>\n",
       "      <td>56.50</td>\n",
       "      <td>0.16</td>\n",
       "      <td>-0.027</td>\n",
       "      <td>NaN</td>\n",
       "    </tr>\n",
       "    <tr>\n",
       "      <th>2000-01-10</th>\n",
       "      <td>0.45</td>\n",
       "      <td>-0.2</td>\n",
       "      <td>14.50</td>\n",
       "      <td>0.15</td>\n",
       "      <td>0.041</td>\n",
       "      <td>NaN</td>\n",
       "    </tr>\n",
       "  </tbody>\n",
       "</table>\n",
       "</div>"
      ],
      "text/plain": [
       "             WTI  GOLD  SP 500  US DOLLAR INDEX  US 10YR BOND   DJU\n",
       "Date                                                               \n",
       "2000-01-04   NaN   NaN     NaN              NaN           NaN   NaN\n",
       "2000-01-05 -0.64  -1.6    1.75            -0.05         0.100  3.54\n",
       "2000-01-06 -0.13   0.3   -9.50             0.29        -0.059  5.06\n",
       "2000-01-07 -0.56   0.5   56.50             0.16        -0.027   NaN\n",
       "2000-01-10  0.45  -0.2   14.50             0.15         0.041   NaN"
      ]
     },
     "execution_count": 23,
     "metadata": {},
     "output_type": "execute_result"
    }
   ],
   "source": [
    "train.head(5)"
   ]
  },
  {
   "cell_type": "code",
   "execution_count": 24,
   "id": "f3153260",
   "metadata": {},
   "outputs": [],
   "source": [
    "train =train.dropna()"
   ]
  },
  {
   "cell_type": "code",
   "execution_count": 25,
   "id": "d992249e",
   "metadata": {},
   "outputs": [],
   "source": [
    "test =test.dropna()"
   ]
  },
  {
   "cell_type": "code",
   "execution_count": 26,
   "id": "fdfcae41",
   "metadata": {},
   "outputs": [
    {
     "data": {
      "text/html": [
       "<div>\n",
       "<style scoped>\n",
       "    .dataframe tbody tr th:only-of-type {\n",
       "        vertical-align: middle;\n",
       "    }\n",
       "\n",
       "    .dataframe tbody tr th {\n",
       "        vertical-align: top;\n",
       "    }\n",
       "\n",
       "    .dataframe thead th {\n",
       "        text-align: right;\n",
       "    }\n",
       "</style>\n",
       "<table border=\"1\" class=\"dataframe\">\n",
       "  <thead>\n",
       "    <tr style=\"text-align: right;\">\n",
       "      <th></th>\n",
       "      <th>WTI</th>\n",
       "      <th>GOLD</th>\n",
       "      <th>SP 500</th>\n",
       "      <th>US DOLLAR INDEX</th>\n",
       "      <th>US 10YR BOND</th>\n",
       "      <th>DJU</th>\n",
       "    </tr>\n",
       "    <tr>\n",
       "      <th>Date</th>\n",
       "      <th></th>\n",
       "      <th></th>\n",
       "      <th></th>\n",
       "      <th></th>\n",
       "      <th></th>\n",
       "      <th></th>\n",
       "    </tr>\n",
       "  </thead>\n",
       "  <tbody>\n",
       "    <tr>\n",
       "      <th>2018-07-06</th>\n",
       "      <td>0.86</td>\n",
       "      <td>-2.8</td>\n",
       "      <td>24.50</td>\n",
       "      <td>-0.454</td>\n",
       "      <td>-0.009</td>\n",
       "      <td>5.839966</td>\n",
       "    </tr>\n",
       "    <tr>\n",
       "      <th>2018-07-09</th>\n",
       "      <td>0.05</td>\n",
       "      <td>4.0</td>\n",
       "      <td>24.50</td>\n",
       "      <td>0.038</td>\n",
       "      <td>0.034</td>\n",
       "      <td>-22.440002</td>\n",
       "    </tr>\n",
       "    <tr>\n",
       "      <th>2018-07-10</th>\n",
       "      <td>0.26</td>\n",
       "      <td>-3.8</td>\n",
       "      <td>9.25</td>\n",
       "      <td>0.082</td>\n",
       "      <td>0.009</td>\n",
       "      <td>6.820007</td>\n",
       "    </tr>\n",
       "    <tr>\n",
       "      <th>2018-07-11</th>\n",
       "      <td>-3.73</td>\n",
       "      <td>-11.6</td>\n",
       "      <td>-22.75</td>\n",
       "      <td>0.597</td>\n",
       "      <td>-0.027</td>\n",
       "      <td>6.809998</td>\n",
       "    </tr>\n",
       "    <tr>\n",
       "      <th>2018-07-12</th>\n",
       "      <td>-0.05</td>\n",
       "      <td>1.9</td>\n",
       "      <td>24.50</td>\n",
       "      <td>0.078</td>\n",
       "      <td>0.009</td>\n",
       "      <td>0.320007</td>\n",
       "    </tr>\n",
       "  </tbody>\n",
       "</table>\n",
       "</div>"
      ],
      "text/plain": [
       "             WTI  GOLD  SP 500  US DOLLAR INDEX  US 10YR BOND        DJU\n",
       "Date                                                                    \n",
       "2018-07-06  0.86  -2.8   24.50           -0.454        -0.009   5.839966\n",
       "2018-07-09  0.05   4.0   24.50            0.038         0.034 -22.440002\n",
       "2018-07-10  0.26  -3.8    9.25            0.082         0.009   6.820007\n",
       "2018-07-11 -3.73 -11.6  -22.75            0.597        -0.027   6.809998\n",
       "2018-07-12 -0.05   1.9   24.50            0.078         0.009   0.320007"
      ]
     },
     "execution_count": 26,
     "metadata": {},
     "output_type": "execute_result"
    }
   ],
   "source": [
    "test.head(5)"
   ]
  },
  {
   "cell_type": "code",
   "execution_count": 27,
   "id": "96fab3d7",
   "metadata": {},
   "outputs": [
    {
     "data": {
      "text/html": [
       "<div>\n",
       "<style scoped>\n",
       "    .dataframe tbody tr th:only-of-type {\n",
       "        vertical-align: middle;\n",
       "    }\n",
       "\n",
       "    .dataframe tbody tr th {\n",
       "        vertical-align: top;\n",
       "    }\n",
       "\n",
       "    .dataframe thead th {\n",
       "        text-align: right;\n",
       "    }\n",
       "</style>\n",
       "<table border=\"1\" class=\"dataframe\">\n",
       "  <thead>\n",
       "    <tr style=\"text-align: right;\">\n",
       "      <th></th>\n",
       "      <th>WTI</th>\n",
       "      <th>GOLD</th>\n",
       "      <th>SP 500</th>\n",
       "      <th>US DOLLAR INDEX</th>\n",
       "      <th>US 10YR BOND</th>\n",
       "      <th>DJU</th>\n",
       "    </tr>\n",
       "    <tr>\n",
       "      <th>Date</th>\n",
       "      <th></th>\n",
       "      <th></th>\n",
       "      <th></th>\n",
       "      <th></th>\n",
       "      <th></th>\n",
       "      <th></th>\n",
       "    </tr>\n",
       "  </thead>\n",
       "  <tbody>\n",
       "    <tr>\n",
       "      <th>2000-01-05</th>\n",
       "      <td>-0.64</td>\n",
       "      <td>-1.6</td>\n",
       "      <td>1.75</td>\n",
       "      <td>-0.05</td>\n",
       "      <td>0.100</td>\n",
       "      <td>3.54</td>\n",
       "    </tr>\n",
       "    <tr>\n",
       "      <th>2000-01-06</th>\n",
       "      <td>-0.13</td>\n",
       "      <td>0.3</td>\n",
       "      <td>-9.50</td>\n",
       "      <td>0.29</td>\n",
       "      <td>-0.059</td>\n",
       "      <td>5.06</td>\n",
       "    </tr>\n",
       "    <tr>\n",
       "      <th>2000-01-11</th>\n",
       "      <td>1.10</td>\n",
       "      <td>1.7</td>\n",
       "      <td>-20.75</td>\n",
       "      <td>-0.39</td>\n",
       "      <td>0.105</td>\n",
       "      <td>3.63</td>\n",
       "    </tr>\n",
       "    <tr>\n",
       "      <th>2000-01-12</th>\n",
       "      <td>0.51</td>\n",
       "      <td>-0.7</td>\n",
       "      <td>-12.25</td>\n",
       "      <td>0.07</td>\n",
       "      <td>0.042</td>\n",
       "      <td>1.00</td>\n",
       "    </tr>\n",
       "    <tr>\n",
       "      <th>2000-01-13</th>\n",
       "      <td>0.41</td>\n",
       "      <td>1.4</td>\n",
       "      <td>16.50</td>\n",
       "      <td>0.34</td>\n",
       "      <td>-0.069</td>\n",
       "      <td>3.24</td>\n",
       "    </tr>\n",
       "  </tbody>\n",
       "</table>\n",
       "</div>"
      ],
      "text/plain": [
       "             WTI  GOLD  SP 500  US DOLLAR INDEX  US 10YR BOND   DJU\n",
       "Date                                                               \n",
       "2000-01-05 -0.64  -1.6    1.75            -0.05         0.100  3.54\n",
       "2000-01-06 -0.13   0.3   -9.50             0.29        -0.059  5.06\n",
       "2000-01-11  1.10   1.7  -20.75            -0.39         0.105  3.63\n",
       "2000-01-12  0.51  -0.7  -12.25             0.07         0.042  1.00\n",
       "2000-01-13  0.41   1.4   16.50             0.34        -0.069  3.24"
      ]
     },
     "execution_count": 27,
     "metadata": {},
     "output_type": "execute_result"
    }
   ],
   "source": [
    "train.head(5)"
   ]
  },
  {
   "cell_type": "code",
   "execution_count": 28,
   "id": "dfcd87db",
   "metadata": {},
   "outputs": [
    {
     "name": "stdout",
     "output_type": "stream",
     "text": [
      "Order = 1\n",
      "AIC:  6.374825422521007\n",
      "BIC:  6.434124572601891\n",
      "\n",
      "Order = 2\n",
      "AIC:  6.369012531183991\n",
      "BIC:  6.479159968008945\n",
      "\n",
      "Order = 3\n",
      "AIC:  6.375940800099211\n",
      "BIC:  6.536955406814859\n",
      "\n",
      "Order = 4\n",
      "AIC:  6.379281343926657\n",
      "BIC:  6.591182014991741\n",
      "\n",
      "Order = 5\n",
      "AIC:  6.384195547145284\n",
      "BIC:  6.6470011883399485\n",
      "\n",
      "Order = 6\n",
      "AIC:  6.393304674219037\n",
      "BIC:  6.70703420265412\n",
      "\n",
      "Order = 7\n",
      "AIC:  6.396256423664727\n",
      "BIC:  6.760928767791058\n",
      "\n",
      "Order = 8\n",
      "AIC:  6.398940995908092\n",
      "BIC:  6.8145750955258055\n",
      "\n",
      "Order = 9\n",
      "AIC:  6.3945500351523155\n",
      "BIC:  6.861164841420169\n",
      "\n",
      "Order = 10\n",
      "AIC:  6.39661919105392\n",
      "BIC:  6.914233666498623\n",
      "\n",
      "Order = 11\n",
      "AIC:  6.403038041334454\n",
      "BIC:  6.971671159860009\n",
      "\n",
      "Order = 12\n",
      "AIC:  6.404001908897904\n",
      "BIC:  7.0236726557949565\n",
      "\n",
      "Order = 13\n",
      "AIC:  6.411938128475442\n",
      "BIC:  7.082665500430637\n",
      "\n",
      "Order = 14\n",
      "AIC:  6.417118453992385\n",
      "BIC:  7.138921459097736\n",
      "\n",
      "Order = 15\n",
      "AIC:  6.423529891187135\n",
      "BIC:  7.196427548949403\n",
      "\n"
     ]
    }
   ],
   "source": [
    "from statsmodels.tsa.vector_ar.var_model import VAR\n",
    "for i in [1,2,3,4,5,6,7,8,9,10,11,12,13,14,15]:\n",
    "    model = VAR(train)\n",
    "    results = model.fit(i)\n",
    "    print('Order =', i)\n",
    "    print('AIC: ', results.aic)\n",
    "    print('BIC: ', results.bic)\n",
    "    print()"
   ]
  },
  {
   "cell_type": "code",
   "execution_count": 29,
   "id": "f560f2a6",
   "metadata": {},
   "outputs": [
    {
     "data": {
      "text/plain": [
       "  Summary of Regression Results   \n",
       "==================================\n",
       "Model:                         VAR\n",
       "Method:                        OLS\n",
       "Date:           Thu, 17, Nov, 2022\n",
       "Time:                     11:26:04\n",
       "--------------------------------------------------------------------\n",
       "No. of Equations:         6.00000    BIC:                    6.97167\n",
       "Nobs:                     4539.00    HQIC:                   6.60331\n",
       "Log likelihood:          -52773.1    FPE:                    603.684\n",
       "AIC:                      6.40304    Det(Omega_mle):         552.875\n",
       "--------------------------------------------------------------------\n",
       "Results for equation WTI\n",
       "======================================================================================\n",
       "                         coefficient       std. error           t-stat            prob\n",
       "--------------------------------------------------------------------------------------\n",
       "const                       0.015944         0.020972            0.760           0.447\n",
       "L1.WTI                     -0.056944         0.016332           -3.487           0.000\n",
       "L1.GOLD                    -0.000577         0.001951           -0.296           0.767\n",
       "L1.SP 500                   0.003739         0.001721            2.173           0.030\n",
       "L1.US DOLLAR INDEX          0.043076         0.048360            0.891           0.373\n",
       "L1.US 10YR BOND             0.448803         0.389207            1.153           0.249\n",
       "L1.DJU                      0.014883         0.005019            2.965           0.003\n",
       "L2.WTI                     -0.038269         0.016359           -2.339           0.019\n",
       "L2.GOLD                     0.010574         0.001952            5.417           0.000\n",
       "L2.SP 500                   0.002248         0.001725            1.303           0.192\n",
       "L2.US DOLLAR INDEX          0.012196         0.048401            0.252           0.801\n",
       "L2.US 10YR BOND            -0.348866         0.390810           -0.893           0.372\n",
       "L2.DJU                     -0.009768         0.005019           -1.946           0.052\n",
       "L3.WTI                      0.005201         0.016376            0.318           0.751\n",
       "L3.GOLD                    -0.002792         0.001952           -1.430           0.153\n",
       "L3.SP 500                  -0.001147         0.001727           -0.664           0.506\n",
       "L3.US DOLLAR INDEX         -0.016399         0.048325           -0.339           0.734\n",
       "L3.US 10YR BOND            -0.284907         0.391206           -0.728           0.466\n",
       "L3.DJU                     -0.004066         0.005018           -0.810           0.418\n",
       "L4.WTI                      0.053676         0.016361            3.281           0.001\n",
       "L4.GOLD                    -0.006712         0.001952           -3.439           0.001\n",
       "L4.SP 500                   0.000457         0.001726            0.265           0.791\n",
       "L4.US DOLLAR INDEX         -0.006840         0.048287           -0.142           0.887\n",
       "L4.US 10YR BOND            -0.376508         0.390845           -0.963           0.335\n",
       "L4.DJU                     -0.000794         0.005015           -0.158           0.874\n",
       "L5.WTI                     -0.030369         0.016381           -1.854           0.064\n",
       "L5.GOLD                     0.002933         0.001954            1.501           0.133\n",
       "L5.SP 500                  -0.000081         0.001726           -0.047           0.963\n",
       "L5.US DOLLAR INDEX          0.026379         0.048321            0.546           0.585\n",
       "L5.US 10YR BOND            -0.145156         0.390753           -0.371           0.710\n",
       "L5.DJU                     -0.006142         0.005019           -1.224           0.221\n",
       "L6.WTI                      0.009553         0.016413            0.582           0.561\n",
       "L6.GOLD                    -0.002626         0.001957           -1.342           0.180\n",
       "L6.SP 500                   0.000243         0.001726            0.141           0.888\n",
       "L6.US DOLLAR INDEX         -0.037624         0.048323           -0.779           0.436\n",
       "L6.US 10YR BOND             0.207884         0.390515            0.532           0.594\n",
       "L6.DJU                     -0.002601         0.005017           -0.518           0.604\n",
       "L7.WTI                     -0.004106         0.016413           -0.250           0.802\n",
       "L7.GOLD                    -0.002120         0.001956           -1.084           0.278\n",
       "L7.SP 500                   0.001036         0.001729            0.599           0.549\n",
       "L7.US DOLLAR INDEX          0.056660         0.048290            1.173           0.241\n",
       "L7.US 10YR BOND             0.468665         0.390241            1.201           0.230\n",
       "L7.DJU                     -0.001692         0.005030           -0.336           0.737\n",
       "L8.WTI                      0.005491         0.016406            0.335           0.738\n",
       "L8.GOLD                    -0.005410         0.001956           -2.767           0.006\n",
       "L8.SP 500                  -0.002482         0.001729           -1.436           0.151\n",
       "L8.US DOLLAR INDEX         -0.110254         0.048305           -2.282           0.022\n",
       "L8.US 10YR BOND             0.260193         0.389873            0.667           0.505\n",
       "L8.DJU                      0.011137         0.005037            2.211           0.027\n",
       "L9.WTI                     -0.008687         0.016403           -0.530           0.596\n",
       "L9.GOLD                     0.002718         0.001958            1.388           0.165\n",
       "L9.SP 500                   0.000508         0.001728            0.294           0.769\n",
       "L9.US DOLLAR INDEX          0.016902         0.048342            0.350           0.727\n",
       "L9.US 10YR BOND            -0.209174         0.389859           -0.537           0.592\n",
       "L9.DJU                     -0.000007         0.005040           -0.001           0.999\n",
       "L10.WTI                    -0.009829         0.016401           -0.599           0.549\n",
       "L10.GOLD                   -0.000541         0.001964           -0.275           0.783\n",
       "L10.SP 500                  0.004215         0.001724            2.445           0.014\n",
       "L10.US DOLLAR INDEX         0.090973         0.048337            1.882           0.060\n",
       "L10.US 10YR BOND           -0.146735         0.389535           -0.377           0.706\n",
       "L10.DJU                    -0.001068         0.005040           -0.212           0.832\n",
       "L11.WTI                     0.000113         0.016332            0.007           0.994\n",
       "L11.GOLD                    0.000945         0.001954            0.483           0.629\n",
       "L11.SP 500                 -0.001293         0.001727           -0.749           0.454\n",
       "L11.US DOLLAR INDEX        -0.061423         0.048285           -1.272           0.203\n",
       "L11.US 10YR BOND            0.481736         0.388316            1.241           0.215\n",
       "L11.DJU                    -0.003514         0.005040           -0.697           0.486\n",
       "======================================================================================\n",
       "\n",
       "Results for equation GOLD\n",
       "======================================================================================\n",
       "                         coefficient       std. error           t-stat            prob\n",
       "--------------------------------------------------------------------------------------\n",
       "const                       0.233098         0.173846            1.341           0.180\n",
       "L1.WTI                      0.208716         0.135384            1.542           0.123\n",
       "L1.GOLD                    -0.040695         0.016175           -2.516           0.012\n",
       "L1.SP 500                   0.029691         0.014266            2.081           0.037\n",
       "L1.US DOLLAR INDEX         -1.060849         0.400881           -2.646           0.008\n",
       "L1.US 10YR BOND           -13.727199         3.226357           -4.255           0.000\n",
       "L1.DJU                      0.100276         0.041604            2.410           0.016\n",
       "L2.WTI                     -0.255934         0.135610           -1.887           0.059\n",
       "L2.GOLD                     0.015454         0.016181            0.955           0.340\n",
       "L2.SP 500                   0.015615         0.014300            1.092           0.275\n",
       "L2.US DOLLAR INDEX          0.183997         0.401220            0.459           0.647\n",
       "L2.US 10YR BOND            -3.316742         3.239640           -1.024           0.306\n",
       "L2.DJU                     -0.045210         0.041607           -1.087           0.277\n",
       "L3.WTI                     -0.087366         0.135752           -0.644           0.520\n",
       "L3.GOLD                    -0.003083         0.016184           -0.191           0.849\n",
       "L3.SP 500                   0.004161         0.014314            0.291           0.771\n",
       "L3.US DOLLAR INDEX         -0.108269         0.400589           -0.270           0.787\n",
       "L3.US 10YR BOND            -7.071971         3.242924           -2.181           0.029\n",
       "L3.DJU                     -0.023629         0.041598           -0.568           0.570\n",
       "L4.WTI                      0.025457         0.135623            0.188           0.851\n",
       "L4.GOLD                    -0.005806         0.016180           -0.359           0.720\n",
       "L4.SP 500                  -0.010360         0.014308           -0.724           0.469\n",
       "L4.US DOLLAR INDEX          0.602866         0.400276            1.506           0.132\n",
       "L4.US 10YR BOND             0.050992         3.239934            0.016           0.987\n",
       "L4.DJU                      0.065179         0.041576            1.568           0.117\n",
       "L5.WTI                      0.197233         0.135789            1.452           0.146\n",
       "L5.GOLD                    -0.012429         0.016200           -0.767           0.443\n",
       "L5.SP 500                  -0.007383         0.014306           -0.516           0.606\n",
       "L5.US DOLLAR INDEX         -0.619496         0.400564           -1.547           0.122\n",
       "L5.US 10YR BOND             0.694713         3.239174            0.214           0.830\n",
       "L5.DJU                     -0.001180         0.041604           -0.028           0.977\n",
       "L6.WTI                      0.030540         0.136060            0.224           0.822\n",
       "L6.GOLD                    -0.028750         0.016222           -1.772           0.076\n",
       "L6.SP 500                  -0.001458         0.014306           -0.102           0.919\n",
       "L6.US DOLLAR INDEX         -0.185033         0.400577           -0.462           0.644\n",
       "L6.US 10YR BOND            -0.188972         3.237198           -0.058           0.953\n",
       "L6.DJU                     -0.060272         0.041592           -1.449           0.147\n",
       "L7.WTI                      0.007813         0.136055            0.057           0.954\n",
       "L7.GOLD                    -0.002791         0.016213           -0.172           0.863\n",
       "L7.SP 500                  -0.022823         0.014331           -1.593           0.111\n",
       "L7.US DOLLAR INDEX          0.342371         0.400299            0.855           0.392\n",
       "L7.US 10YR BOND            -2.225527         3.234925           -0.688           0.491\n",
       "L7.DJU                      0.082490         0.041698            1.978           0.048\n",
       "L8.WTI                     -0.029328         0.136001           -0.216           0.829\n",
       "L8.GOLD                    -0.003419         0.016211           -0.211           0.833\n",
       "L8.SP 500                  -0.013472         0.014331           -0.940           0.347\n",
       "L8.US DOLLAR INDEX          0.181818         0.400425            0.454           0.650\n",
       "L8.US 10YR BOND             1.939541         3.231876            0.600           0.548\n",
       "L8.DJU                     -0.014335         0.041756           -0.343           0.731\n",
       "L9.WTI                     -0.427000         0.135972           -3.140           0.002\n",
       "L9.GOLD                     0.079313         0.016233            4.886           0.000\n",
       "L9.SP 500                   0.007921         0.014322            0.553           0.580\n",
       "L9.US DOLLAR INDEX          0.392764         0.400736            0.980           0.327\n",
       "L9.US 10YR BOND            -1.521810         3.231762           -0.471           0.638\n",
       "L9.DJU                     -0.049542         0.041782           -1.186           0.236\n",
       "L10.WTI                     0.053490         0.135957            0.393           0.694\n",
       "L10.GOLD                   -0.024354         0.016285           -1.496           0.135\n",
       "L10.SP 500                 -0.015053         0.014294           -1.053           0.292\n",
       "L10.US DOLLAR INDEX         0.236763         0.400689            0.591           0.555\n",
       "L10.US 10YR BOND           -0.020061         3.229073           -0.006           0.995\n",
       "L10.DJU                     0.043131         0.041778            1.032           0.302\n",
       "L11.WTI                     0.105385         0.135386            0.778           0.436\n",
       "L11.GOLD                   -0.042357         0.016199           -2.615           0.009\n",
       "L11.SP 500                  0.005233         0.014317            0.365           0.715\n",
       "L11.US DOLLAR INDEX        -1.044082         0.400261           -2.609           0.009\n",
       "L11.US 10YR BOND            6.622051         3.218970            2.057           0.040\n",
       "L11.DJU                    -0.015081         0.041776           -0.361           0.718\n",
       "======================================================================================\n",
       "\n",
       "Results for equation SP 500\n",
       "======================================================================================\n",
       "                         coefficient       std. error           t-stat            prob\n",
       "--------------------------------------------------------------------------------------\n",
       "const                       0.379714         0.231427            1.641           0.101\n",
       "L1.WTI                     -0.224180         0.180226           -1.244           0.214\n",
       "L1.GOLD                     0.000404         0.021533            0.019           0.985\n",
       "L1.SP 500                  -0.030608         0.018991           -1.612           0.107\n",
       "L1.US DOLLAR INDEX         -0.155604         0.533660           -0.292           0.771\n",
       "L1.US 10YR BOND            -2.311735         4.294989           -0.538           0.590\n",
       "L1.DJU                     -0.084931         0.055383           -1.533           0.125\n",
       "L2.WTI                      0.006398         0.180526            0.035           0.972\n",
       "L2.GOLD                     0.022119         0.021540            1.027           0.304\n",
       "L2.SP 500                  -0.060601         0.019037           -3.183           0.001\n",
       "L2.US DOLLAR INDEX         -0.830059         0.534112           -1.554           0.120\n",
       "L2.US 10YR BOND             4.959442         4.312671            1.150           0.250\n",
       "L2.DJU                     -0.082153         0.055388           -1.483           0.138\n",
       "L3.WTI                     -0.145449         0.180715           -0.805           0.421\n",
       "L3.GOLD                     0.002237         0.021545            0.104           0.917\n",
       "L3.SP 500                   0.017987         0.019055            0.944           0.345\n",
       "L3.US DOLLAR INDEX         -0.584778         0.533272           -1.097           0.273\n",
       "L3.US 10YR BOND            -4.737411         4.317043           -1.097           0.272\n",
       "L3.DJU                     -0.026753         0.055376           -0.483           0.629\n",
       "L4.WTI                      0.144665         0.180544            0.801           0.423\n",
       "L4.GOLD                    -0.031637         0.021539           -1.469           0.142\n",
       "L4.SP 500                   0.003356         0.019048            0.176           0.860\n",
       "L4.US DOLLAR INDEX         -0.692343         0.532855           -1.299           0.194\n",
       "L4.US 10YR BOND            -3.421309         4.313063           -0.793           0.428\n",
       "L4.DJU                     -0.096922         0.055346           -1.751           0.080\n",
       "L5.WTI                     -0.509460         0.180765           -2.818           0.005\n",
       "L5.GOLD                     0.057728         0.021565            2.677           0.007\n",
       "L5.SP 500                  -0.025509         0.019045           -1.339           0.180\n",
       "L5.US DOLLAR INDEX          0.224089         0.533238            0.420           0.674\n",
       "L5.US 10YR BOND            -2.102730         4.312051           -0.488           0.626\n",
       "L5.DJU                      0.005069         0.055384            0.092           0.927\n",
       "L6.WTI                      0.301537         0.181126            1.665           0.096\n",
       "L6.GOLD                    -0.016053         0.021594           -0.743           0.457\n",
       "L6.SP 500                  -0.005507         0.019044           -0.289           0.772\n",
       "L6.US DOLLAR INDEX          0.232981         0.533255            0.437           0.662\n",
       "L6.US 10YR BOND            -3.280233         4.309421           -0.761           0.447\n",
       "L6.DJU                     -0.075447         0.055368           -1.363           0.173\n",
       "L7.WTI                      0.366192         0.181119            2.022           0.043\n",
       "L7.GOLD                    -0.036917         0.021583           -1.710           0.087\n",
       "L7.SP 500                   0.002533         0.019078            0.133           0.894\n",
       "L7.US DOLLAR INDEX         -0.294353         0.532885           -0.552           0.581\n",
       "L7.US 10YR BOND             0.287547         4.306395            0.067           0.947\n",
       "L7.DJU                     -0.218156         0.055509           -3.930           0.000\n",
       "L8.WTI                     -0.175196         0.181047           -0.968           0.333\n",
       "L8.GOLD                    -0.039280         0.021580           -1.820           0.069\n",
       "L8.SP 500                  -0.016958         0.019077           -0.889           0.374\n",
       "L8.US DOLLAR INDEX         -0.689316         0.533054           -1.293           0.196\n",
       "L8.US 10YR BOND            -2.594048         4.302336           -0.603           0.547\n",
       "L8.DJU                      0.092944         0.055587            1.672           0.095\n",
       "L9.WTI                      0.609422         0.181008            3.367           0.001\n",
       "L9.GOLD                    -0.013512         0.021610           -0.625           0.532\n",
       "L9.SP 500                  -0.023668         0.019066           -1.241           0.214\n",
       "L9.US DOLLAR INDEX          1.167586         0.533467            2.189           0.029\n",
       "L9.US 10YR BOND            -4.082821         4.302185           -0.949           0.343\n",
       "L9.DJU                     -0.059820         0.055621           -1.076           0.282\n",
       "L10.WTI                    -0.287496         0.180988           -1.588           0.112\n",
       "L10.GOLD                    0.005539         0.021678            0.256           0.798\n",
       "L10.SP 500                  0.057122         0.019028            3.002           0.003\n",
       "L10.US DOLLAR INDEX         0.912230         0.533405            1.710           0.087\n",
       "L10.US 10YR BOND           -4.657449         4.298604           -1.083           0.279\n",
       "L10.DJU                    -0.130101         0.055616           -2.339           0.019\n",
       "L11.WTI                    -0.147773         0.180229           -0.820           0.412\n",
       "L11.GOLD                    0.005799         0.021564            0.269           0.788\n",
       "L11.SP 500                 -0.019135         0.019059           -1.004           0.315\n",
       "L11.US DOLLAR INDEX        -0.225359         0.532835           -0.423           0.672\n",
       "L11.US 10YR BOND           -1.870126         4.285155           -0.436           0.663\n",
       "L11.DJU                     0.104548         0.055613            1.880           0.060\n",
       "======================================================================================\n",
       "\n",
       "Results for equation US DOLLAR INDEX\n",
       "======================================================================================\n",
       "                         coefficient       std. error           t-stat            prob\n",
       "--------------------------------------------------------------------------------------\n",
       "const                      -0.001412         0.007013           -0.201           0.840\n",
       "L1.WTI                     -0.005686         0.005462           -1.041           0.298\n",
       "L1.GOLD                     0.000359         0.000653            0.550           0.582\n",
       "L1.SP 500                  -0.002692         0.000576           -4.678           0.000\n",
       "L1.US DOLLAR INDEX         -0.030417         0.016172           -1.881           0.060\n",
       "L1.US 10YR BOND             0.297914         0.130158            2.289           0.022\n",
       "L1.DJU                     -0.000526         0.001678           -0.313           0.754\n",
       "L2.WTI                     -0.002170         0.005471           -0.397           0.692\n",
       "L2.GOLD                    -0.002010         0.000653           -3.080           0.002\n",
       "L2.SP 500                  -0.000149         0.000577           -0.259           0.796\n",
       "L2.US DOLLAR INDEX         -0.020341         0.016186           -1.257           0.209\n",
       "L2.US 10YR BOND             0.129706         0.130693            0.992           0.321\n",
       "L2.DJU                      0.000773         0.001678            0.461           0.645\n",
       "L3.WTI                     -0.002423         0.005476           -0.442           0.658\n",
       "L3.GOLD                    -0.000224         0.000653           -0.343           0.732\n",
       "L3.SP 500                   0.000172         0.000577            0.298           0.766\n",
       "L3.US DOLLAR INDEX         -0.024320         0.016161           -1.505           0.132\n",
       "L3.US 10YR BOND             0.161657         0.130826            1.236           0.217\n",
       "L3.DJU                     -0.000109         0.001678           -0.065           0.948\n",
       "L4.WTI                     -0.004390         0.005471           -0.802           0.422\n",
       "L4.GOLD                     0.000780         0.000653            1.196           0.232\n",
       "L4.SP 500                   0.000521         0.000577            0.902           0.367\n",
       "L4.US DOLLAR INDEX          0.029925         0.016148            1.853           0.064\n",
       "L4.US 10YR BOND            -0.166614         0.130705           -1.275           0.202\n",
       "L4.DJU                      0.000728         0.001677            0.434           0.664\n",
       "L5.WTI                      0.000496         0.005478            0.091           0.928\n",
       "L5.GOLD                    -0.001423         0.000654           -2.178           0.029\n",
       "L5.SP 500                  -0.000490         0.000577           -0.848           0.396\n",
       "L5.US DOLLAR INDEX         -0.011744         0.016160           -0.727           0.467\n",
       "L5.US 10YR BOND            -0.035797         0.130675           -0.274           0.784\n",
       "L5.DJU                      0.000713         0.001678            0.425           0.671\n",
       "L6.WTI                      0.004478         0.005489            0.816           0.415\n",
       "L6.GOLD                     0.000250         0.000654            0.382           0.703\n",
       "L6.SP 500                  -0.000309         0.000577           -0.535           0.593\n",
       "L6.US DOLLAR INDEX          0.008733         0.016160            0.540           0.589\n",
       "L6.US 10YR BOND             0.089516         0.130595            0.685           0.493\n",
       "L6.DJU                      0.000653         0.001678            0.389           0.697\n",
       "L7.WTI                     -0.004133         0.005489           -0.753           0.451\n",
       "L7.GOLD                    -0.000399         0.000654           -0.610           0.542\n",
       "L7.SP 500                  -0.000722         0.000578           -1.249           0.212\n",
       "L7.US DOLLAR INDEX         -0.001788         0.016149           -0.111           0.912\n",
       "L7.US 10YR BOND             0.175303         0.130503            1.343           0.179\n",
       "L7.DJU                     -0.000587         0.001682           -0.349           0.727\n",
       "L8.WTI                     -0.007238         0.005487           -1.319           0.187\n",
       "L8.GOLD                     0.001027         0.000654            1.571           0.116\n",
       "L8.SP 500                   0.000027         0.000578            0.047           0.963\n",
       "L8.US DOLLAR INDEX          0.007505         0.016154            0.465           0.642\n",
       "L8.US 10YR BOND             0.291736         0.130380            2.238           0.025\n",
       "L8.DJU                     -0.002665         0.001685           -1.582           0.114\n",
       "L9.WTI                      0.004024         0.005485            0.734           0.463\n",
       "L9.GOLD                     0.000883         0.000655            1.348           0.178\n",
       "L9.SP 500                  -0.001068         0.000578           -1.849           0.064\n",
       "L9.US DOLLAR INDEX         -0.023011         0.016166           -1.423           0.155\n",
       "L9.US 10YR BOND             0.316451         0.130376            2.427           0.015\n",
       "L9.DJU                      0.000751         0.001686            0.446           0.656\n",
       "L10.WTI                    -0.008223         0.005485           -1.499           0.134\n",
       "L10.GOLD                   -0.000120         0.000657           -0.183           0.855\n",
       "L10.SP 500                 -0.000702         0.000577           -1.218           0.223\n",
       "L10.US DOLLAR INDEX        -0.034224         0.016165           -2.117           0.034\n",
       "L10.US 10YR BOND            0.119149         0.130267            0.915           0.360\n",
       "L10.DJU                     0.002670         0.001685            1.584           0.113\n",
       "L11.WTI                    -0.000066         0.005462           -0.012           0.990\n",
       "L11.GOLD                    0.000121         0.000653            0.185           0.853\n",
       "L11.SP 500                  0.000838         0.000578            1.450           0.147\n",
       "L11.US DOLLAR INDEX         0.031668         0.016147            1.961           0.050\n",
       "L11.US 10YR BOND           -0.013015         0.129860           -0.100           0.920\n",
       "L11.DJU                    -0.001050         0.001685           -0.623           0.533\n",
       "======================================================================================\n",
       "\n",
       "Results for equation US 10YR BOND\n",
       "======================================================================================\n",
       "                         coefficient       std. error           t-stat            prob\n",
       "--------------------------------------------------------------------------------------\n",
       "const                      -0.000665         0.000895           -0.743           0.458\n",
       "L1.WTI                      0.000187         0.000697            0.268           0.789\n",
       "L1.GOLD                     0.000016         0.000083            0.196           0.845\n",
       "L1.SP 500                  -0.000158         0.000073           -2.145           0.032\n",
       "L1.US DOLLAR INDEX         -0.000022         0.002064           -0.011           0.992\n",
       "L1.US 10YR BOND            -0.031195         0.016613           -1.878           0.060\n",
       "L1.DJU                     -0.000331         0.000214           -1.543           0.123\n",
       "L2.WTI                      0.000640         0.000698            0.916           0.360\n",
       "L2.GOLD                     0.000156         0.000083            1.876           0.061\n",
       "L2.SP 500                  -0.000062         0.000074           -0.847           0.397\n",
       "L2.US DOLLAR INDEX         -0.001246         0.002066           -0.603           0.546\n",
       "L2.US 10YR BOND            -0.040217         0.016681           -2.411           0.016\n",
       "L2.DJU                     -0.000116         0.000214           -0.542           0.588\n",
       "L3.WTI                      0.000607         0.000699            0.869           0.385\n",
       "L3.GOLD                     0.000028         0.000083            0.338           0.735\n",
       "L3.SP 500                  -0.000043         0.000074           -0.578           0.563\n",
       "L3.US DOLLAR INDEX          0.001146         0.002063            0.556           0.578\n",
       "L3.US 10YR BOND            -0.001190         0.016698           -0.071           0.943\n",
       "L3.DJU                     -0.000204         0.000214           -0.953           0.341\n",
       "L4.WTI                      0.001174         0.000698            1.681           0.093\n",
       "L4.GOLD                    -0.000191         0.000083           -2.294           0.022\n",
       "L4.SP 500                   0.000114         0.000074            1.549           0.121\n",
       "L4.US DOLLAR INDEX          0.001485         0.002061            0.720           0.471\n",
       "L4.US 10YR BOND            -0.010468         0.016683           -0.627           0.530\n",
       "L4.DJU                     -0.000613         0.000214           -2.864           0.004\n",
       "L5.WTI                     -0.001565         0.000699           -2.238           0.025\n",
       "L5.GOLD                     0.000007         0.000083            0.088           0.930\n",
       "L5.SP 500                  -0.000045         0.000074           -0.606           0.545\n",
       "L5.US DOLLAR INDEX         -0.002045         0.002063           -0.992           0.321\n",
       "L5.US 10YR BOND            -0.014906         0.016679           -0.894           0.371\n",
       "L5.DJU                     -0.000209         0.000214           -0.977           0.328\n",
       "L6.WTI                      0.001820         0.000701            2.598           0.009\n",
       "L6.GOLD                     0.000067         0.000084            0.808           0.419\n",
       "L6.SP 500                   0.000086         0.000074            1.165           0.244\n",
       "L6.US DOLLAR INDEX          0.002197         0.002063            1.065           0.287\n",
       "L6.US 10YR BOND            -0.007915         0.016669           -0.475           0.635\n",
       "L6.DJU                     -0.000325         0.000214           -1.516           0.130\n",
       "L7.WTI                      0.000397         0.000701            0.566           0.571\n",
       "L7.GOLD                     0.000024         0.000083            0.292           0.771\n",
       "L7.SP 500                  -0.000013         0.000074           -0.177           0.859\n",
       "L7.US DOLLAR INDEX          0.003676         0.002061            1.783           0.075\n",
       "L7.US 10YR BOND             0.013646         0.016657            0.819           0.413\n",
       "L7.DJU                     -0.000397         0.000215           -1.850           0.064\n",
       "L8.WTI                     -0.000137         0.000700           -0.196           0.845\n",
       "L8.GOLD                    -0.000240         0.000083           -2.872           0.004\n",
       "L8.SP 500                   0.000004         0.000074            0.057           0.955\n",
       "L8.US DOLLAR INDEX          0.001319         0.002062            0.640           0.522\n",
       "L8.US 10YR BOND            -0.028686         0.016641           -1.724           0.085\n",
       "L8.DJU                      0.000500         0.000215            2.327           0.020\n",
       "L9.WTI                      0.000915         0.000700            1.306           0.191\n",
       "L9.GOLD                     0.000030         0.000084            0.362           0.718\n",
       "L9.SP 500                   0.000008         0.000074            0.111           0.912\n",
       "L9.US DOLLAR INDEX         -0.001807         0.002063           -0.876           0.381\n",
       "L9.US 10YR BOND            -0.018124         0.016641           -1.089           0.276\n",
       "L9.DJU                     -0.000064         0.000215           -0.300           0.764\n",
       "L10.WTI                    -0.000658         0.000700           -0.940           0.347\n",
       "L10.GOLD                    0.000068         0.000084            0.806           0.420\n",
       "L10.SP 500                  0.000014         0.000074            0.186           0.852\n",
       "L10.US DOLLAR INDEX         0.004226         0.002063            2.048           0.041\n",
       "L10.US 10YR BOND            0.012402         0.016627            0.746           0.456\n",
       "L10.DJU                    -0.000004         0.000215           -0.018           0.986\n",
       "L11.WTI                    -0.000285         0.000697           -0.409           0.683\n",
       "L11.GOLD                    0.000091         0.000083            1.088           0.277\n",
       "L11.SP 500                 -0.000010         0.000074           -0.139           0.890\n",
       "L11.US DOLLAR INDEX        -0.002274         0.002061           -1.103           0.270\n",
       "L11.US 10YR BOND            0.015808         0.016575            0.954           0.340\n",
       "L11.DJU                     0.000032         0.000215            0.150           0.881\n",
       "======================================================================================\n",
       "\n",
       "Results for equation DJU\n",
       "======================================================================================\n",
       "                         coefficient       std. error           t-stat            prob\n",
       "--------------------------------------------------------------------------------------\n",
       "const                       0.087771         0.074057            1.185           0.236\n",
       "L1.WTI                     -0.064038         0.057672           -1.110           0.267\n",
       "L1.GOLD                     0.007013         0.006890            1.018           0.309\n",
       "L1.SP 500                  -0.003197         0.006077           -0.526           0.599\n",
       "L1.US DOLLAR INDEX          0.047472         0.170771            0.278           0.781\n",
       "L1.US 10YR BOND            -3.471005         1.374395           -2.525           0.012\n",
       "L1.DJU                     -0.016129         0.017723           -0.910           0.363\n",
       "L2.WTI                     -0.022412         0.057768           -0.388           0.698\n",
       "L2.GOLD                     0.007655         0.006893            1.111           0.267\n",
       "L2.SP 500                  -0.000822         0.006092           -0.135           0.893\n",
       "L2.US DOLLAR INDEX         -0.050022         0.170916           -0.293           0.770\n",
       "L2.US 10YR BOND             1.161766         1.380054            0.842           0.400\n",
       "L2.DJU                     -0.050794         0.017724           -2.866           0.004\n",
       "L3.WTI                      0.015253         0.057829            0.264           0.792\n",
       "L3.GOLD                     0.008124         0.006894            1.178           0.239\n",
       "L3.SP 500                   0.001917         0.006097            0.314           0.753\n",
       "L3.US DOLLAR INDEX          0.206731         0.170647            1.211           0.226\n",
       "L3.US 10YR BOND            -2.397142         1.381453           -1.735           0.083\n",
       "L3.DJU                      0.004915         0.017720            0.277           0.781\n",
       "L4.WTI                      0.061973         0.057774            1.073           0.283\n",
       "L4.GOLD                    -0.014231         0.006893           -2.065           0.039\n",
       "L4.SP 500                  -0.007118         0.006095           -1.168           0.243\n",
       "L4.US DOLLAR INDEX          0.022740         0.170514            0.133           0.894\n",
       "L4.US 10YR BOND            -0.313975         1.380179           -0.227           0.820\n",
       "L4.DJU                      0.013519         0.017711            0.763           0.445\n",
       "L5.WTI                     -0.014436         0.057845           -0.250           0.803\n",
       "L5.GOLD                     0.014968         0.006901            2.169           0.030\n",
       "L5.SP 500                  -0.000572         0.006094           -0.094           0.925\n",
       "L5.US DOLLAR INDEX          0.093919         0.170636            0.550           0.582\n",
       "L5.US 10YR BOND            -1.581079         1.379855           -1.146           0.252\n",
       "L5.DJU                     -0.011094         0.017723           -0.626           0.531\n",
       "L6.WTI                      0.093804         0.057960            1.618           0.106\n",
       "L6.GOLD                    -0.006180         0.006910           -0.894           0.371\n",
       "L6.SP 500                  -0.009554         0.006094           -1.568           0.117\n",
       "L6.US DOLLAR INDEX          0.006628         0.170642            0.039           0.969\n",
       "L6.US 10YR BOND            -1.225341         1.379013           -0.889           0.374\n",
       "L6.DJU                      0.010844         0.017718            0.612           0.541\n",
       "L7.WTI                      0.123189         0.057958            2.125           0.034\n",
       "L7.GOLD                    -0.010200         0.006907           -1.477           0.140\n",
       "L7.SP 500                  -0.005428         0.006105           -0.889           0.374\n",
       "L7.US DOLLAR INDEX          0.258919         0.170523            1.518           0.129\n",
       "L7.US 10YR BOND            -0.059970         1.378045           -0.044           0.965\n",
       "L7.DJU                     -0.048686         0.017763           -2.741           0.006\n",
       "L8.WTI                     -0.021821         0.057935           -0.377           0.706\n",
       "L8.GOLD                    -0.004421         0.006906           -0.640           0.522\n",
       "L8.SP 500                   0.008281         0.006105            1.357           0.175\n",
       "L8.US DOLLAR INDEX         -0.026551         0.170577           -0.156           0.876\n",
       "L8.US 10YR BOND            -1.665736         1.376746           -1.210           0.226\n",
       "L8.DJU                      0.003708         0.017788            0.208           0.835\n",
       "L9.WTI                      0.181784         0.057923            3.138           0.002\n",
       "L9.GOLD                    -0.002745         0.006915           -0.397           0.691\n",
       "L9.SP 500                  -0.001279         0.006101           -0.210           0.834\n",
       "L9.US DOLLAR INDEX          0.300128         0.170709            1.758           0.079\n",
       "L9.US 10YR BOND             0.347914         1.376698            0.253           0.800\n",
       "L9.DJU                     -0.048099         0.017799           -2.702           0.007\n",
       "L10.WTI                    -0.220047         0.057916           -3.799           0.000\n",
       "L10.GOLD                   -0.002889         0.006937           -0.416           0.677\n",
       "L10.SP 500                  0.019357         0.006089            3.179           0.001\n",
       "L10.US DOLLAR INDEX         0.134964         0.170690            0.791           0.429\n",
       "L10.US 10YR BOND           -0.852734         1.375552           -0.620           0.535\n",
       "L10.DJU                    -0.043250         0.017797           -2.430           0.015\n",
       "L11.WTI                    -0.038520         0.057673           -0.668           0.504\n",
       "L11.GOLD                   -0.004106         0.006901           -0.595           0.552\n",
       "L11.SP 500                  0.001712         0.006099            0.281           0.779\n",
       "L11.US DOLLAR INDEX        -0.266825         0.170507           -1.565           0.118\n",
       "L11.US 10YR BOND           -1.955488         1.371248           -1.426           0.154\n",
       "L11.DJU                     0.025213         0.017796            1.417           0.157\n",
       "======================================================================================\n",
       "\n",
       "Correlation matrix of residuals\n",
       "                        WTI      GOLD    SP 500  US DOLLAR INDEX  US 10YR BOND       DJU\n",
       "WTI                1.000000  0.271871  0.214695        -0.228371      0.166403  0.165452\n",
       "GOLD               0.271871  1.000000 -0.000245        -0.309247     -0.095507  0.041582\n",
       "SP 500             0.214695 -0.000245  1.000000        -0.053924      0.371944  0.526139\n",
       "US DOLLAR INDEX   -0.228371 -0.309247 -0.053924         1.000000      0.136140 -0.106368\n",
       "US 10YR BOND       0.166403 -0.095507  0.371944         0.136140      1.000000  0.124749\n",
       "DJU                0.165452  0.041582  0.526139        -0.106368      0.124749  1.000000\n",
       "\n"
      ]
     },
     "execution_count": 29,
     "metadata": {},
     "output_type": "execute_result"
    }
   ],
   "source": [
    "result = model.fit(11)\n",
    "result.summary()"
   ]
  },
  {
   "cell_type": "code",
   "execution_count": 30,
   "id": "87da0fa5",
   "metadata": {},
   "outputs": [],
   "source": [
    "lagged_Values = train.values[-12:]"
   ]
  },
  {
   "cell_type": "code",
   "execution_count": 31,
   "id": "03b3489c",
   "metadata": {},
   "outputs": [],
   "source": [
    "pred = result.forecast(y=lagged_Values, steps=248) \n",
    "\n",
    "idx = pd.date_range('2018-07-04\t', periods=248, freq='D')\n",
    "df_forecast=pd.DataFrame(data=pred, index=idx, columns=['WTI_2d', \"GOLD_2d\", \"SP500_2d\", 'US_DOLLAR_INDEX_2d', 'US_10YR_BOND_2d', 'DJU_2d'])"
   ]
  },
  {
   "cell_type": "code",
   "execution_count": 32,
   "id": "cac3e93c",
   "metadata": {},
   "outputs": [
    {
     "data": {
      "text/html": [
       "<div>\n",
       "<style scoped>\n",
       "    .dataframe tbody tr th:only-of-type {\n",
       "        vertical-align: middle;\n",
       "    }\n",
       "\n",
       "    .dataframe tbody tr th {\n",
       "        vertical-align: top;\n",
       "    }\n",
       "\n",
       "    .dataframe thead th {\n",
       "        text-align: right;\n",
       "    }\n",
       "</style>\n",
       "<table border=\"1\" class=\"dataframe\">\n",
       "  <thead>\n",
       "    <tr style=\"text-align: right;\">\n",
       "      <th></th>\n",
       "      <th>WTI_2d</th>\n",
       "      <th>GOLD_2d</th>\n",
       "      <th>SP500_2d</th>\n",
       "      <th>US_DOLLAR_INDEX_2d</th>\n",
       "      <th>US_10YR_BOND_2d</th>\n",
       "      <th>DJU_2d</th>\n",
       "    </tr>\n",
       "  </thead>\n",
       "  <tbody>\n",
       "    <tr>\n",
       "      <th>2018-07-04</th>\n",
       "      <td>-0.217311</td>\n",
       "      <td>1.406091</td>\n",
       "      <td>-1.553082</td>\n",
       "      <td>0.071748</td>\n",
       "      <td>0.000021</td>\n",
       "      <td>-0.668979</td>\n",
       "    </tr>\n",
       "    <tr>\n",
       "      <th>2018-07-05</th>\n",
       "      <td>0.217565</td>\n",
       "      <td>-1.245394</td>\n",
       "      <td>4.082694</td>\n",
       "      <td>-0.026319</td>\n",
       "      <td>0.011231</td>\n",
       "      <td>0.545909</td>\n",
       "    </tr>\n",
       "    <tr>\n",
       "      <th>2018-07-06</th>\n",
       "      <td>0.063444</td>\n",
       "      <td>2.661623</td>\n",
       "      <td>-1.964863</td>\n",
       "      <td>-0.025612</td>\n",
       "      <td>0.001042</td>\n",
       "      <td>-0.567500</td>\n",
       "    </tr>\n",
       "    <tr>\n",
       "      <th>2018-07-07</th>\n",
       "      <td>-0.258231</td>\n",
       "      <td>-0.362388</td>\n",
       "      <td>-1.485187</td>\n",
       "      <td>0.011813</td>\n",
       "      <td>-0.002564</td>\n",
       "      <td>-0.643652</td>\n",
       "    </tr>\n",
       "    <tr>\n",
       "      <th>2018-07-08</th>\n",
       "      <td>0.016694</td>\n",
       "      <td>-1.538484</td>\n",
       "      <td>6.201196</td>\n",
       "      <td>-0.086498</td>\n",
       "      <td>0.000178</td>\n",
       "      <td>0.742567</td>\n",
       "    </tr>\n",
       "  </tbody>\n",
       "</table>\n",
       "</div>"
      ],
      "text/plain": [
       "              WTI_2d   GOLD_2d  SP500_2d  US_DOLLAR_INDEX_2d  US_10YR_BOND_2d  \\\n",
       "2018-07-04 -0.217311  1.406091 -1.553082            0.071748         0.000021   \n",
       "2018-07-05  0.217565 -1.245394  4.082694           -0.026319         0.011231   \n",
       "2018-07-06  0.063444  2.661623 -1.964863           -0.025612         0.001042   \n",
       "2018-07-07 -0.258231 -0.362388 -1.485187            0.011813        -0.002564   \n",
       "2018-07-08  0.016694 -1.538484  6.201196           -0.086498         0.000178   \n",
       "\n",
       "              DJU_2d  \n",
       "2018-07-04 -0.668979  \n",
       "2018-07-05  0.545909  \n",
       "2018-07-06 -0.567500  \n",
       "2018-07-07 -0.643652  \n",
       "2018-07-08  0.742567  "
      ]
     },
     "execution_count": 32,
     "metadata": {},
     "output_type": "execute_result"
    }
   ],
   "source": [
    "df_forecast.head(5)"
   ]
  },
  {
   "cell_type": "code",
   "execution_count": 33,
   "id": "8e444a82",
   "metadata": {},
   "outputs": [],
   "source": [
    "forecast_final = pd.DataFrame()"
   ]
  },
  {
   "cell_type": "code",
   "execution_count": 34,
   "id": "db7b361d",
   "metadata": {},
   "outputs": [],
   "source": [
    "#WTI\n",
    "df_forecast['WTI1d'] = (df['WTI'].iloc[-test_obs-1]-df['WTI'].iloc[-test_obs-2]) + df_forecast['WTI_2d'].cumsum()\n",
    "forecast_final['WTIForecast'] = df['WTI'].iloc[-test_obs-1] + df_forecast['WTI1d'].cumsum()\n",
    "\n",
    "df_forecast['GOLD1d'] = (df['GOLD'].iloc[-test_obs-1]-df['GOLD'].iloc[-test_obs-2]) + df_forecast['GOLD_2d'].cumsum()\n",
    "forecast_final['GOLDForecast'] = df['GOLD'].iloc[-test_obs-1] + df_forecast['GOLD1d'].cumsum()\n",
    "\n",
    "df_forecast['US DOLLAR INDEX1d'] = (df['US DOLLAR INDEX'].iloc[-test_obs-1]-df['US DOLLAR INDEX'].iloc[-test_obs-2]) + df_forecast['US_DOLLAR_INDEX_2d'].cumsum()\n",
    "forecast_final['US DOLLAR INDEXForecast'] = df['US DOLLAR INDEX'].iloc[-test_obs-1] + df_forecast['US DOLLAR INDEX1d'].cumsum()\n",
    "\n",
    "df_forecast['DJU1d'] = (df['DJU'].iloc[-test_obs-1]-df['DJU'].iloc[-test_obs-2]) + df_forecast['DJU_2d'].cumsum()\n",
    "forecast_final['DJUForecast'] = df['DJU'].iloc[-test_obs-1] + df_forecast['DJU1d'].cumsum()\n",
    "\n",
    "df_forecast['SP 5001d'] = (df['SP 500'].iloc[-test_obs-1]-df['SP 500'].iloc[-test_obs-2]) + df_forecast['SP500_2d'].cumsum()\n",
    "forecast_final['SP 500Forecast'] = df['SP 500'].iloc[-test_obs-1] + df_forecast['SP 5001d'].cumsum()\n",
    "\n",
    "df_forecast['US 10YR BOND1d'] = (df['US 10YR BOND'].iloc[-test_obs-1]-df['US 10YR BOND'].iloc[-test_obs-2]) + df_forecast['US_10YR_BOND_2d'].cumsum()\n",
    "forecast_final['US 10YR BONDForecast'] = df['US 10YR BOND'].iloc[-test_obs-1] + df_forecast['US 10YR BOND1d'].cumsum()"
   ]
  },
  {
   "cell_type": "markdown",
   "id": "f495abda",
   "metadata": {},
   "source": [
    "# Predicting for a week"
   ]
  },
  {
   "cell_type": "code",
   "execution_count": 35,
   "id": "5daf6695",
   "metadata": {},
   "outputs": [
    {
     "data": {
      "text/plain": [
       "<AxesSubplot:>"
      ]
     },
     "execution_count": 35,
     "metadata": {},
     "output_type": "execute_result"
    },
    {
     "data": {
      "image/png": "[encoded data removed]",
      "text/plain": [
       "<Figure size 1200x500 with 1 Axes>"
      ]
     },
     "metadata": {},
     "output_type": "display_data"
    }
   ],
   "source": [
    "final = forecast_final.join(test_orig).dropna().head(7)\n",
    "final['WTI'].plot(figsize=(12,5),legend=True)\n",
    "final['WTIForecast'].plot(legend=True)"
   ]
  },
  {
   "cell_type": "code",
   "execution_count": 38,
   "id": "84ab68be",
   "metadata": {},
   "outputs": [
    {
     "data": {
      "text/plain": [
       "0.03236140465880427"
      ]
     },
     "execution_count": 38,
     "metadata": {},
     "output_type": "execute_result"
    }
   ],
   "source": [
    "from sklearn.metrics import mean_absolute_percentage_error\n",
    "mean_absolute_percentage_error(final['WTI'], final['WTIForecast'])"
   ]
  },
  {
   "cell_type": "markdown",
   "id": "9875e231",
   "metadata": {},
   "source": [
    "# Prediction for a month"
   ]
  },
  {
   "cell_type": "code",
   "execution_count": 39,
   "id": "606afd39",
   "metadata": {},
   "outputs": [],
   "source": [
    "final = forecast_final.join(test_orig).dropna().head(30)"
   ]
  },
  {
   "cell_type": "code",
   "execution_count": 40,
   "id": "017a0ac5",
   "metadata": {},
   "outputs": [
    {
     "data": {
      "text/plain": [
       "<AxesSubplot:>"
      ]
     },
     "execution_count": 40,
     "metadata": {},
     "output_type": "execute_result"
    },
    {
     "data": {
      "image/png": "[encoded data removed]",
      "text/plain": [
       "<Figure size 1200x500 with 1 Axes>"
      ]
     },
     "metadata": {},
     "output_type": "display_data"
    }
   ],
   "source": [
    "final['WTI'].plot(figsize=(12,5),legend=True)\n",
    "final['WTIForecast'].plot(legend=True)"
   ]
  },
  {
   "cell_type": "code",
   "execution_count": 41,
   "id": "6b6096c9",
   "metadata": {},
   "outputs": [
    {
     "data": {
      "text/plain": [
       "0.12424104536096188"
      ]
     },
     "execution_count": 41,
     "metadata": {},
     "output_type": "execute_result"
    }
   ],
   "source": [
    "mean_absolute_percentage_error(final['WTI'], final['WTIForecast'])"
   ]
  },
  {
   "cell_type": "code",
   "execution_count": 42,
   "id": "49b3fd7e",
   "metadata": {},
   "outputs": [
    {
     "data": {
      "text/html": [
       "<div>\n",
       "<style scoped>\n",
       "    .dataframe tbody tr th:only-of-type {\n",
       "        vertical-align: middle;\n",
       "    }\n",
       "\n",
       "    .dataframe tbody tr th {\n",
       "        vertical-align: top;\n",
       "    }\n",
       "\n",
       "    .dataframe thead th {\n",
       "        text-align: right;\n",
       "    }\n",
       "</style>\n",
       "<table border=\"1\" class=\"dataframe\">\n",
       "  <thead>\n",
       "    <tr style=\"text-align: right;\">\n",
       "      <th></th>\n",
       "      <th>WTI</th>\n",
       "      <th>GOLD</th>\n",
       "      <th>SP 500</th>\n",
       "      <th>US DOLLAR INDEX</th>\n",
       "      <th>US 10YR BOND</th>\n",
       "      <th>DJU</th>\n",
       "    </tr>\n",
       "  </thead>\n",
       "  <tbody>\n",
       "    <tr>\n",
       "      <th>WTI</th>\n",
       "      <td>1.000000</td>\n",
       "      <td>0.665941</td>\n",
       "      <td>0.083106</td>\n",
       "      <td>-0.823229</td>\n",
       "      <td>-0.405524</td>\n",
       "      <td>0.287398</td>\n",
       "    </tr>\n",
       "    <tr>\n",
       "      <th>GOLD</th>\n",
       "      <td>0.665941</td>\n",
       "      <td>1.000000</td>\n",
       "      <td>0.512646</td>\n",
       "      <td>-0.531812</td>\n",
       "      <td>-0.871268</td>\n",
       "      <td>0.656101</td>\n",
       "    </tr>\n",
       "    <tr>\n",
       "      <th>SP 500</th>\n",
       "      <td>0.083106</td>\n",
       "      <td>0.512646</td>\n",
       "      <td>1.000000</td>\n",
       "      <td>0.099504</td>\n",
       "      <td>-0.474446</td>\n",
       "      <td>0.926677</td>\n",
       "    </tr>\n",
       "    <tr>\n",
       "      <th>US DOLLAR INDEX</th>\n",
       "      <td>-0.823229</td>\n",
       "      <td>-0.531812</td>\n",
       "      <td>0.099504</td>\n",
       "      <td>1.000000</td>\n",
       "      <td>0.377742</td>\n",
       "      <td>-0.116609</td>\n",
       "    </tr>\n",
       "    <tr>\n",
       "      <th>US 10YR BOND</th>\n",
       "      <td>-0.405524</td>\n",
       "      <td>-0.871268</td>\n",
       "      <td>-0.474446</td>\n",
       "      <td>0.377742</td>\n",
       "      <td>1.000000</td>\n",
       "      <td>-0.604175</td>\n",
       "    </tr>\n",
       "    <tr>\n",
       "      <th>DJU</th>\n",
       "      <td>0.287398</td>\n",
       "      <td>0.656101</td>\n",
       "      <td>0.926677</td>\n",
       "      <td>-0.116609</td>\n",
       "      <td>-0.604175</td>\n",
       "      <td>1.000000</td>\n",
       "    </tr>\n",
       "  </tbody>\n",
       "</table>\n",
       "</div>"
      ],
      "text/plain": [
       "                      WTI      GOLD    SP 500  US DOLLAR INDEX  US 10YR BOND  \\\n",
       "WTI              1.000000  0.665941  0.083106        -0.823229     -0.405524   \n",
       "GOLD             0.665941  1.000000  0.512646        -0.531812     -0.871268   \n",
       "SP 500           0.083106  0.512646  1.000000         0.099504     -0.474446   \n",
       "US DOLLAR INDEX -0.823229 -0.531812  0.099504         1.000000      0.377742   \n",
       "US 10YR BOND    -0.405524 -0.871268 -0.474446         0.377742      1.000000   \n",
       "DJU              0.287398  0.656101  0.926677        -0.116609     -0.604175   \n",
       "\n",
       "                      DJU  \n",
       "WTI              0.287398  \n",
       "GOLD             0.656101  \n",
       "SP 500           0.926677  \n",
       "US DOLLAR INDEX -0.116609  \n",
       "US 10YR BOND    -0.604175  \n",
       "DJU              1.000000  "
      ]
     },
     "execution_count": 42,
     "metadata": {},
     "output_type": "execute_result"
    }
   ],
   "source": [
    "df.corr()"
   ]
  },
  {
   "cell_type": "markdown",
   "id": "52b71ac7",
   "metadata": {},
   "source": [
    "# Predicting for whole test dataset"
   ]
  },
  {
   "cell_type": "code",
   "execution_count": 43,
   "id": "237d7358",
   "metadata": {},
   "outputs": [],
   "source": [
    "final = forecast_final.join(test_orig).dropna()"
   ]
  },
  {
   "cell_type": "code",
   "execution_count": 45,
   "id": "c5964bde",
   "metadata": {},
   "outputs": [
    {
     "data": {
      "text/plain": [
       "<AxesSubplot:>"
      ]
     },
     "execution_count": 45,
     "metadata": {},
     "output_type": "execute_result"
    },
    {
     "data": {
      "image/png": "[encoded data removed]",
      "text/plain": [
       "<Figure size 1200x500 with 1 Axes>"
      ]
     },
     "metadata": {},
     "output_type": "display_data"
    }
   ],
   "source": [
    "final['WTI'].plot(figsize=(12,5),legend=True)\n",
    "final['WTIForecast'].plot(legend=True)"
   ]
  },
  {
   "cell_type": "code",
   "execution_count": 46,
   "id": "8e228fff",
   "metadata": {},
   "outputs": [
    {
     "data": {
      "text/plain": [
       "2.947817731783184"
      ]
     },
     "execution_count": 46,
     "metadata": {},
     "output_type": "execute_result"
    }
   ],
   "source": [
    "mean_absolute_percentage_error(final['WTI'], final['WTIForecast'])"
   ]
  }
 ],
 "metadata": {
  "kernelspec": {
   "display_name": "Python 3.9.12 ('base')",
   "language": "python",
   "name": "python3"
  },
  "language_info": {
   "codemirror_mode": {
    "name": "ipython",
    "version": 3
   },
   "file_extension": ".py",
   "mimetype": "text/x-python",
   "name": "python",
   "nbconvert_exporter": "python",
   "pygments_lexer": "ipython3",
   "version": "3.9.12"
  },
  "vscode": {
   "interpreter": {
    "hash": "20a9e06a1eee47c4abbed4ec8225ad91d78d9800d202b71b6b0a6e47016c6abd"
   }
  }
 },
 "nbformat": 4,
 "nbformat_minor": 5
}
