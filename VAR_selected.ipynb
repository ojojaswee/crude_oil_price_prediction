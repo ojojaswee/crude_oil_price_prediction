{
 "cells": [
  {
   "cell_type": "code",
   "execution_count": 1,
   "id": "bd6ae560",
   "metadata": {},
   "outputs": [],
   "source": [
    "import pandas as pd\n",
    "import numpy as np\n",
    "import matplotlib.pyplot as plt\n",
    "import seaborn as sns\n",
    "from datetime import date\n",
    "import statsmodels.api as sm\n",
    "import itertools\n",
    "from sklearn.preprocessing import MinMaxScaler\n",
    "import plotly.express as px\n",
    "from scipy.stats import zscore as zs\n",
    "from scipy import linalg as scipy_linalg\n",
    "from sklearn.model_selection import train_test_split as split\n",
    "# from keras.models import Sequential\n",
    "# from keras.layers import Dense, Dropout, LSTM, GRU\n",
    "# from sklearn.metrics import mean_squared_error, r2_score, mean_absolute_error, median_absolute_error, mean_squared_log_error\n",
    "from numpy.random import seed\n",
    "seed(1)\n",
    "# import tensorflow\n",
    "# tensorflow.random.set_seed(1)\n",
    "# from google.colab import files\n",
    "# from keras.optimizers import SGD\n",
    "from IPython.display import display, Image\n",
    "import warnings\n",
    "warnings.filterwarnings(\"ignore\")\n"
   ]
  },
  {
   "cell_type": "code",
   "execution_count": 17,
   "id": "08435319",
   "metadata": {},
   "outputs": [],
   "source": [
    "df = pd.read_csv(\"COMBINED.csv\")"
   ]
  },
  {
   "cell_type": "code",
   "execution_count": 18,
   "id": "715f1c8f",
   "metadata": {},
   "outputs": [
    {
     "data": {
      "text/html": [
       "<div>\n",
       "<style scoped>\n",
       "    .dataframe tbody tr th:only-of-type {\n",
       "        vertical-align: middle;\n",
       "    }\n",
       "\n",
       "    .dataframe tbody tr th {\n",
       "        vertical-align: top;\n",
       "    }\n",
       "\n",
       "    .dataframe thead th {\n",
       "        text-align: right;\n",
       "    }\n",
       "</style>\n",
       "<table border=\"1\" class=\"dataframe\">\n",
       "  <thead>\n",
       "    <tr style=\"text-align: right;\">\n",
       "      <th></th>\n",
       "      <th>Date</th>\n",
       "      <th>WTI</th>\n",
       "      <th>GOLD</th>\n",
       "      <th>SP 500</th>\n",
       "      <th>US DOLLAR INDEX</th>\n",
       "      <th>US 10YR BOND</th>\n",
       "      <th>DJU</th>\n",
       "    </tr>\n",
       "  </thead>\n",
       "  <tbody>\n",
       "    <tr>\n",
       "      <th>0</th>\n",
       "      <td>04-01-2000</td>\n",
       "      <td>25.55</td>\n",
       "      <td>282.7</td>\n",
       "      <td>1411.75</td>\n",
       "      <td>100.10</td>\n",
       "      <td>6.499</td>\n",
       "      <td>289.10</td>\n",
       "    </tr>\n",
       "    <tr>\n",
       "      <th>1</th>\n",
       "      <td>05-01-2000</td>\n",
       "      <td>24.91</td>\n",
       "      <td>281.1</td>\n",
       "      <td>1413.50</td>\n",
       "      <td>100.05</td>\n",
       "      <td>6.599</td>\n",
       "      <td>292.64</td>\n",
       "    </tr>\n",
       "    <tr>\n",
       "      <th>2</th>\n",
       "      <td>06-01-2000</td>\n",
       "      <td>24.78</td>\n",
       "      <td>281.4</td>\n",
       "      <td>1404.00</td>\n",
       "      <td>100.34</td>\n",
       "      <td>6.540</td>\n",
       "      <td>297.70</td>\n",
       "    </tr>\n",
       "    <tr>\n",
       "      <th>4</th>\n",
       "      <td>10-01-2000</td>\n",
       "      <td>24.67</td>\n",
       "      <td>281.7</td>\n",
       "      <td>1475.00</td>\n",
       "      <td>100.65</td>\n",
       "      <td>6.554</td>\n",
       "      <td>294.37</td>\n",
       "    </tr>\n",
       "    <tr>\n",
       "      <th>5</th>\n",
       "      <td>11-01-2000</td>\n",
       "      <td>25.77</td>\n",
       "      <td>283.4</td>\n",
       "      <td>1454.25</td>\n",
       "      <td>100.26</td>\n",
       "      <td>6.659</td>\n",
       "      <td>298.00</td>\n",
       "    </tr>\n",
       "  </tbody>\n",
       "</table>\n",
       "</div>"
      ],
      "text/plain": [
       "         Date    WTI   GOLD   SP 500  US DOLLAR INDEX  US 10YR BOND     DJU\n",
       "0  04-01-2000  25.55  282.7  1411.75           100.10         6.499  289.10\n",
       "1  05-01-2000  24.91  281.1  1413.50           100.05         6.599  292.64\n",
       "2  06-01-2000  24.78  281.4  1404.00           100.34         6.540  297.70\n",
       "4  10-01-2000  24.67  281.7  1475.00           100.65         6.554  294.37\n",
       "5  11-01-2000  25.77  283.4  1454.25           100.26         6.659  298.00"
      ]
     },
     "execution_count": 18,
     "metadata": {},
     "output_type": "execute_result"
    }
   ],
   "source": [
    "df.dropna().head(5)"
   ]
  },
  {
   "cell_type": "code",
   "execution_count": 19,
   "id": "14e78292",
   "metadata": {
    "scrolled": true
   },
   "outputs": [
    {
     "data": {
      "text/html": [
       "<div>\n",
       "<style scoped>\n",
       "    .dataframe tbody tr th:only-of-type {\n",
       "        vertical-align: middle;\n",
       "    }\n",
       "\n",
       "    .dataframe tbody tr th {\n",
       "        vertical-align: top;\n",
       "    }\n",
       "\n",
       "    .dataframe thead th {\n",
       "        text-align: right;\n",
       "    }\n",
       "</style>\n",
       "<table border=\"1\" class=\"dataframe\">\n",
       "  <thead>\n",
       "    <tr style=\"text-align: right;\">\n",
       "      <th></th>\n",
       "      <th>Date</th>\n",
       "      <th>WTI</th>\n",
       "      <th>GOLD</th>\n",
       "      <th>SP 500</th>\n",
       "      <th>US DOLLAR INDEX</th>\n",
       "      <th>US 10YR BOND</th>\n",
       "      <th>DJU</th>\n",
       "    </tr>\n",
       "  </thead>\n",
       "  <tbody>\n",
       "    <tr>\n",
       "      <th>0</th>\n",
       "      <td>2000-01-04</td>\n",
       "      <td>25.55</td>\n",
       "      <td>282.7</td>\n",
       "      <td>1411.75</td>\n",
       "      <td>100.10</td>\n",
       "      <td>6.499</td>\n",
       "      <td>289.10</td>\n",
       "    </tr>\n",
       "    <tr>\n",
       "      <th>1</th>\n",
       "      <td>2000-01-05</td>\n",
       "      <td>24.91</td>\n",
       "      <td>281.1</td>\n",
       "      <td>1413.50</td>\n",
       "      <td>100.05</td>\n",
       "      <td>6.599</td>\n",
       "      <td>292.64</td>\n",
       "    </tr>\n",
       "    <tr>\n",
       "      <th>2</th>\n",
       "      <td>2000-01-06</td>\n",
       "      <td>24.78</td>\n",
       "      <td>281.4</td>\n",
       "      <td>1404.00</td>\n",
       "      <td>100.34</td>\n",
       "      <td>6.540</td>\n",
       "      <td>297.70</td>\n",
       "    </tr>\n",
       "    <tr>\n",
       "      <th>3</th>\n",
       "      <td>2000-01-07</td>\n",
       "      <td>24.22</td>\n",
       "      <td>281.9</td>\n",
       "      <td>1460.50</td>\n",
       "      <td>100.50</td>\n",
       "      <td>6.513</td>\n",
       "      <td>NaN</td>\n",
       "    </tr>\n",
       "    <tr>\n",
       "      <th>4</th>\n",
       "      <td>2000-01-10</td>\n",
       "      <td>24.67</td>\n",
       "      <td>281.7</td>\n",
       "      <td>1475.00</td>\n",
       "      <td>100.65</td>\n",
       "      <td>6.554</td>\n",
       "      <td>294.37</td>\n",
       "    </tr>\n",
       "  </tbody>\n",
       "</table>\n",
       "</div>"
      ],
      "text/plain": [
       "        Date    WTI   GOLD   SP 500  US DOLLAR INDEX  US 10YR BOND     DJU\n",
       "0 2000-01-04  25.55  282.7  1411.75           100.10         6.499  289.10\n",
       "1 2000-01-05  24.91  281.1  1413.50           100.05         6.599  292.64\n",
       "2 2000-01-06  24.78  281.4  1404.00           100.34         6.540  297.70\n",
       "3 2000-01-07  24.22  281.9  1460.50           100.50         6.513     NaN\n",
       "4 2000-01-10  24.67  281.7  1475.00           100.65         6.554  294.37"
      ]
     },
     "execution_count": 19,
     "metadata": {},
     "output_type": "execute_result"
    }
   ],
   "source": [
    "df['Date'] = pd.to_datetime(df['Date'],format='%d-%m-%Y')\n",
    "df.head()"
   ]
  },
  {
   "cell_type": "code",
   "execution_count": 20,
   "id": "6d84a492",
   "metadata": {},
   "outputs": [],
   "source": [
    "# df = df[[ \"WTI\", \"GOLD\", \"US DOLLAR INDEX\"]]\n",
    "# df"
   ]
  },
  {
   "cell_type": "code",
   "execution_count": 21,
   "id": "e092bc0f",
   "metadata": {},
   "outputs": [],
   "source": [
    "df = df[[\"Date\", \"WTI\", \"GOLD\", \"US DOLLAR INDEX\"]]"
   ]
  },
  {
   "cell_type": "code",
   "execution_count": 22,
   "id": "1744c699",
   "metadata": {},
   "outputs": [
    {
     "data": {
      "text/html": [
       "<div>\n",
       "<style scoped>\n",
       "    .dataframe tbody tr th:only-of-type {\n",
       "        vertical-align: middle;\n",
       "    }\n",
       "\n",
       "    .dataframe tbody tr th {\n",
       "        vertical-align: top;\n",
       "    }\n",
       "\n",
       "    .dataframe thead th {\n",
       "        text-align: right;\n",
       "    }\n",
       "</style>\n",
       "<table border=\"1\" class=\"dataframe\">\n",
       "  <thead>\n",
       "    <tr style=\"text-align: right;\">\n",
       "      <th></th>\n",
       "      <th>Date</th>\n",
       "      <th>WTI</th>\n",
       "      <th>GOLD</th>\n",
       "      <th>US DOLLAR INDEX</th>\n",
       "    </tr>\n",
       "  </thead>\n",
       "  <tbody>\n",
       "    <tr>\n",
       "      <th>0</th>\n",
       "      <td>2000-01-04</td>\n",
       "      <td>25.55</td>\n",
       "      <td>282.70</td>\n",
       "      <td>100.100</td>\n",
       "    </tr>\n",
       "    <tr>\n",
       "      <th>1</th>\n",
       "      <td>2000-01-05</td>\n",
       "      <td>24.91</td>\n",
       "      <td>281.10</td>\n",
       "      <td>100.050</td>\n",
       "    </tr>\n",
       "    <tr>\n",
       "      <th>2</th>\n",
       "      <td>2000-01-06</td>\n",
       "      <td>24.78</td>\n",
       "      <td>281.40</td>\n",
       "      <td>100.340</td>\n",
       "    </tr>\n",
       "    <tr>\n",
       "      <th>3</th>\n",
       "      <td>2000-01-07</td>\n",
       "      <td>24.22</td>\n",
       "      <td>281.90</td>\n",
       "      <td>100.500</td>\n",
       "    </tr>\n",
       "    <tr>\n",
       "      <th>4</th>\n",
       "      <td>2000-01-10</td>\n",
       "      <td>24.67</td>\n",
       "      <td>281.70</td>\n",
       "      <td>100.650</td>\n",
       "    </tr>\n",
       "    <tr>\n",
       "      <th>...</th>\n",
       "      <td>...</td>\n",
       "      <td>...</td>\n",
       "      <td>...</td>\n",
       "      <td>...</td>\n",
       "    </tr>\n",
       "    <tr>\n",
       "      <th>4942</th>\n",
       "      <td>2019-06-05</td>\n",
       "      <td>51.68</td>\n",
       "      <td>1328.30</td>\n",
       "      <td>97.251</td>\n",
       "    </tr>\n",
       "    <tr>\n",
       "      <th>4943</th>\n",
       "      <td>2019-06-06</td>\n",
       "      <td>52.59</td>\n",
       "      <td>1337.60</td>\n",
       "      <td>96.997</td>\n",
       "    </tr>\n",
       "    <tr>\n",
       "      <th>4944</th>\n",
       "      <td>2019-06-07</td>\n",
       "      <td>53.99</td>\n",
       "      <td>1341.20</td>\n",
       "      <td>96.490</td>\n",
       "    </tr>\n",
       "    <tr>\n",
       "      <th>4945</th>\n",
       "      <td>2019-06-09</td>\n",
       "      <td>54.44</td>\n",
       "      <td>1338.95</td>\n",
       "      <td>NaN</td>\n",
       "    </tr>\n",
       "    <tr>\n",
       "      <th>4946</th>\n",
       "      <td>2019-06-10</td>\n",
       "      <td>54.28</td>\n",
       "      <td>1331.05</td>\n",
       "      <td>96.833</td>\n",
       "    </tr>\n",
       "  </tbody>\n",
       "</table>\n",
       "<p>4947 rows × 4 columns</p>\n",
       "</div>"
      ],
      "text/plain": [
       "           Date    WTI     GOLD  US DOLLAR INDEX\n",
       "0    2000-01-04  25.55   282.70          100.100\n",
       "1    2000-01-05  24.91   281.10          100.050\n",
       "2    2000-01-06  24.78   281.40          100.340\n",
       "3    2000-01-07  24.22   281.90          100.500\n",
       "4    2000-01-10  24.67   281.70          100.650\n",
       "...         ...    ...      ...              ...\n",
       "4942 2019-06-05  51.68  1328.30           97.251\n",
       "4943 2019-06-06  52.59  1337.60           96.997\n",
       "4944 2019-06-07  53.99  1341.20           96.490\n",
       "4945 2019-06-09  54.44  1338.95              NaN\n",
       "4946 2019-06-10  54.28  1331.05           96.833\n",
       "\n",
       "[4947 rows x 4 columns]"
      ]
     },
     "execution_count": 22,
     "metadata": {},
     "output_type": "execute_result"
    }
   ],
   "source": [
    "df"
   ]
  },
  {
   "cell_type": "code",
   "execution_count": 23,
   "id": "81597ef2",
   "metadata": {},
   "outputs": [],
   "source": [
    "df.set_index('Date',inplace=True)"
   ]
  },
  {
   "cell_type": "code",
   "execution_count": 24,
   "id": "b9f676c2",
   "metadata": {},
   "outputs": [],
   "source": [
    "def adf_test(series,title=''):\n",
    "    \"\"\"\n",
    "    Pass in a time series and an optional title, returns an ADF report\n",
    "    \"\"\"\n",
    "    print(f'Augmented Dickey-Fuller Test: {title}')\n",
    "    result = adfuller(series.dropna(),autolag='AIC') # .dropna() handles differenced data\n",
    "    labels = ['ADF test statistic','p-value','# lags used','# observations']\n",
    "    out = pd.Series(result[0:4],index=labels)\n",
    "    for key,val in result[4].items():\n",
    "        out[f'critical value ({key})']=val\n",
    "    print(out.to_string())          # .to_string() removes the line \"dtype: float64\"\n",
    "    if result[1] <= 0.05:\n",
    "        print(\"Strong evidence against the null hypothesis\")\n",
    "        print(\"Reject the null hypothesis\")\n",
    "        print(\"Data has no unit root and is stationary\")\n",
    "    else:\n",
    "        print(\"Weak evidence against the null hypothesis\")\n",
    "        print(\"Fail to reject the null hypothesis\")\n",
    "        print(\"Data has a unit root and is non-stationary\")"
   ]
  },
  {
   "cell_type": "code",
   "execution_count": 25,
   "id": "066ed1be",
   "metadata": {},
   "outputs": [],
   "source": [
    "from statsmodels.tsa.stattools import adfuller\n",
    "import pandas as pd"
   ]
  },
  {
   "cell_type": "code",
   "execution_count": 26,
   "id": "e45434df",
   "metadata": {},
   "outputs": [
    {
     "name": "stdout",
     "output_type": "stream",
     "text": [
      "Augmented Dickey-Fuller Test: \n",
      "ADF test statistic        -1.183290\n",
      "p-value                    0.680742\n",
      "# lags used               12.000000\n",
      "# observations          4928.000000\n",
      "critical value (1%)       -3.431678\n",
      "critical value (5%)       -2.862127\n",
      "critical value (10%)      -2.567082\n",
      "Weak evidence against the null hypothesis\n",
      "Fail to reject the null hypothesis\n",
      "Data has a unit root and is non-stationary\n"
     ]
    }
   ],
   "source": [
    "adf_test(df['GOLD'])"
   ]
  },
  {
   "cell_type": "code",
   "execution_count": 27,
   "id": "1ad89ca7",
   "metadata": {},
   "outputs": [
    {
     "name": "stdout",
     "output_type": "stream",
     "text": [
      "Augmented Dickey-Fuller Test: \n",
      "ADF test statistic        -2.004742\n",
      "p-value                    0.284498\n",
      "# lags used                5.000000\n",
      "# observations          4941.000000\n",
      "critical value (1%)       -3.431674\n",
      "critical value (5%)       -2.862125\n",
      "critical value (10%)      -2.567081\n",
      "Weak evidence against the null hypothesis\n",
      "Fail to reject the null hypothesis\n",
      "Data has a unit root and is non-stationary\n"
     ]
    }
   ],
   "source": [
    "adf_test(df['WTI'])"
   ]
  },
  {
   "cell_type": "code",
   "execution_count": 28,
   "id": "c354e39d",
   "metadata": {},
   "outputs": [
    {
     "name": "stdout",
     "output_type": "stream",
     "text": [
      "Augmented Dickey-Fuller Test: \n",
      "ADF test statistic        -1.641191\n",
      "p-value                    0.461638\n",
      "# lags used               32.000000\n",
      "# observations          4884.000000\n",
      "critical value (1%)       -3.431690\n",
      "critical value (5%)       -2.862132\n",
      "critical value (10%)      -2.567085\n",
      "Weak evidence against the null hypothesis\n",
      "Fail to reject the null hypothesis\n",
      "Data has a unit root and is non-stationary\n"
     ]
    }
   ],
   "source": [
    "adf_test(df['US DOLLAR INDEX'])"
   ]
  },
  {
   "cell_type": "code",
   "execution_count": 29,
   "id": "e6db3f96",
   "metadata": {},
   "outputs": [],
   "source": [
    "# train = df[:int(0.95*(len(df)))]\n",
    "test_orig = df[int(0.95*(len(df))):]"
   ]
  },
  {
   "cell_type": "code",
   "execution_count": 30,
   "id": "791c8276",
   "metadata": {},
   "outputs": [],
   "source": [
    "df_difference = df.diff()"
   ]
  },
  {
   "cell_type": "code",
   "execution_count": 31,
   "id": "964cebe2",
   "metadata": {},
   "outputs": [
    {
     "name": "stdout",
     "output_type": "stream",
     "text": [
      "Augmented Dickey-Fuller Test: \n",
      "ADF test statistic       -32.079650\n",
      "p-value                    0.000000\n",
      "# lags used                4.000000\n",
      "# observations          4941.000000\n",
      "critical value (1%)       -3.431674\n",
      "critical value (5%)       -2.862125\n",
      "critical value (10%)      -2.567081\n",
      "Strong evidence against the null hypothesis\n",
      "Reject the null hypothesis\n",
      "Data has no unit root and is stationary\n"
     ]
    }
   ],
   "source": [
    "adf_test(df_difference['WTI'])"
   ]
  },
  {
   "cell_type": "code",
   "execution_count": 32,
   "id": "7f13d529",
   "metadata": {},
   "outputs": [
    {
     "name": "stdout",
     "output_type": "stream",
     "text": [
      "Augmented Dickey-Fuller Test: \n",
      "ADF test statistic       -21.505587\n",
      "p-value                    0.000000\n",
      "# lags used               11.000000\n",
      "# observations          4922.000000\n",
      "critical value (1%)       -3.431679\n",
      "critical value (5%)       -2.862127\n",
      "critical value (10%)      -2.567083\n",
      "Strong evidence against the null hypothesis\n",
      "Reject the null hypothesis\n",
      "Data has no unit root and is stationary\n"
     ]
    }
   ],
   "source": [
    "adf_test(df_difference['GOLD'])"
   ]
  },
  {
   "cell_type": "code",
   "execution_count": 33,
   "id": "ee50e13d",
   "metadata": {},
   "outputs": [
    {
     "name": "stdout",
     "output_type": "stream",
     "text": [
      "Augmented Dickey-Fuller Test: \n",
      "ADF test statistic     -1.504227e+01\n",
      "p-value                 9.554975e-28\n",
      "# lags used             2.000000e+01\n",
      "# observations          4.865000e+03\n",
      "critical value (1%)    -3.431695e+00\n",
      "critical value (5%)    -2.862134e+00\n",
      "critical value (10%)   -2.567086e+00\n",
      "Strong evidence against the null hypothesis\n",
      "Reject the null hypothesis\n",
      "Data has no unit root and is stationary\n"
     ]
    }
   ],
   "source": [
    "adf_test(df_difference['US DOLLAR INDEX'])"
   ]
  },
  {
   "cell_type": "code",
   "execution_count": 34,
   "id": "3221dcad",
   "metadata": {},
   "outputs": [],
   "source": [
    "test_obs = 248\n",
    "train = df_difference[:-test_obs]\n",
    "test = df_difference[-test_obs:]\n",
    "#creating the train and validation set\n",
    "#train = df_difference[:int(0.95*(len(df_difference)))]\n",
    "#test = df_difference[int(0.95*(len(df_difference))):]"
   ]
  },
  {
   "cell_type": "code",
   "execution_count": 35,
   "id": "984cd242",
   "metadata": {
    "scrolled": true
   },
   "outputs": [
    {
     "data": {
      "text/html": [
       "<div>\n",
       "<style scoped>\n",
       "    .dataframe tbody tr th:only-of-type {\n",
       "        vertical-align: middle;\n",
       "    }\n",
       "\n",
       "    .dataframe tbody tr th {\n",
       "        vertical-align: top;\n",
       "    }\n",
       "\n",
       "    .dataframe thead th {\n",
       "        text-align: right;\n",
       "    }\n",
       "</style>\n",
       "<table border=\"1\" class=\"dataframe\">\n",
       "  <thead>\n",
       "    <tr style=\"text-align: right;\">\n",
       "      <th></th>\n",
       "      <th>WTI</th>\n",
       "      <th>GOLD</th>\n",
       "      <th>US DOLLAR INDEX</th>\n",
       "    </tr>\n",
       "    <tr>\n",
       "      <th>Date</th>\n",
       "      <th></th>\n",
       "      <th></th>\n",
       "      <th></th>\n",
       "    </tr>\n",
       "  </thead>\n",
       "  <tbody>\n",
       "    <tr>\n",
       "      <th>2000-01-04</th>\n",
       "      <td>NaN</td>\n",
       "      <td>NaN</td>\n",
       "      <td>NaN</td>\n",
       "    </tr>\n",
       "    <tr>\n",
       "      <th>2000-01-05</th>\n",
       "      <td>-0.64</td>\n",
       "      <td>-1.6</td>\n",
       "      <td>-0.05</td>\n",
       "    </tr>\n",
       "    <tr>\n",
       "      <th>2000-01-06</th>\n",
       "      <td>-0.13</td>\n",
       "      <td>0.3</td>\n",
       "      <td>0.29</td>\n",
       "    </tr>\n",
       "    <tr>\n",
       "      <th>2000-01-07</th>\n",
       "      <td>-0.56</td>\n",
       "      <td>0.5</td>\n",
       "      <td>0.16</td>\n",
       "    </tr>\n",
       "    <tr>\n",
       "      <th>2000-01-10</th>\n",
       "      <td>0.45</td>\n",
       "      <td>-0.2</td>\n",
       "      <td>0.15</td>\n",
       "    </tr>\n",
       "  </tbody>\n",
       "</table>\n",
       "</div>"
      ],
      "text/plain": [
       "             WTI  GOLD  US DOLLAR INDEX\n",
       "Date                                   \n",
       "2000-01-04   NaN   NaN              NaN\n",
       "2000-01-05 -0.64  -1.6            -0.05\n",
       "2000-01-06 -0.13   0.3             0.29\n",
       "2000-01-07 -0.56   0.5             0.16\n",
       "2000-01-10  0.45  -0.2             0.15"
      ]
     },
     "execution_count": 35,
     "metadata": {},
     "output_type": "execute_result"
    }
   ],
   "source": [
    "train.head(5)"
   ]
  },
  {
   "cell_type": "code",
   "execution_count": 36,
   "id": "f3153260",
   "metadata": {},
   "outputs": [],
   "source": [
    "train =train.dropna()"
   ]
  },
  {
   "cell_type": "code",
   "execution_count": 37,
   "id": "d992249e",
   "metadata": {},
   "outputs": [],
   "source": [
    "test =test.dropna()"
   ]
  },
  {
   "cell_type": "code",
   "execution_count": 38,
   "id": "fdfcae41",
   "metadata": {},
   "outputs": [
    {
     "data": {
      "text/html": [
       "<div>\n",
       "<style scoped>\n",
       "    .dataframe tbody tr th:only-of-type {\n",
       "        vertical-align: middle;\n",
       "    }\n",
       "\n",
       "    .dataframe tbody tr th {\n",
       "        vertical-align: top;\n",
       "    }\n",
       "\n",
       "    .dataframe thead th {\n",
       "        text-align: right;\n",
       "    }\n",
       "</style>\n",
       "<table border=\"1\" class=\"dataframe\">\n",
       "  <thead>\n",
       "    <tr style=\"text-align: right;\">\n",
       "      <th></th>\n",
       "      <th>WTI</th>\n",
       "      <th>GOLD</th>\n",
       "      <th>US DOLLAR INDEX</th>\n",
       "    </tr>\n",
       "    <tr>\n",
       "      <th>Date</th>\n",
       "      <th></th>\n",
       "      <th></th>\n",
       "      <th></th>\n",
       "    </tr>\n",
       "  </thead>\n",
       "  <tbody>\n",
       "    <tr>\n",
       "      <th>2018-07-04</th>\n",
       "      <td>-0.01</td>\n",
       "      <td>-24.9</td>\n",
       "      <td>0.000</td>\n",
       "    </tr>\n",
       "    <tr>\n",
       "      <th>2018-07-05</th>\n",
       "      <td>-1.19</td>\n",
       "      <td>30.0</td>\n",
       "      <td>-0.189</td>\n",
       "    </tr>\n",
       "    <tr>\n",
       "      <th>2018-07-06</th>\n",
       "      <td>0.86</td>\n",
       "      <td>-2.8</td>\n",
       "      <td>-0.454</td>\n",
       "    </tr>\n",
       "    <tr>\n",
       "      <th>2018-07-09</th>\n",
       "      <td>0.05</td>\n",
       "      <td>4.0</td>\n",
       "      <td>0.038</td>\n",
       "    </tr>\n",
       "    <tr>\n",
       "      <th>2018-07-10</th>\n",
       "      <td>0.26</td>\n",
       "      <td>-3.8</td>\n",
       "      <td>0.082</td>\n",
       "    </tr>\n",
       "  </tbody>\n",
       "</table>\n",
       "</div>"
      ],
      "text/plain": [
       "             WTI  GOLD  US DOLLAR INDEX\n",
       "Date                                   \n",
       "2018-07-04 -0.01 -24.9            0.000\n",
       "2018-07-05 -1.19  30.0           -0.189\n",
       "2018-07-06  0.86  -2.8           -0.454\n",
       "2018-07-09  0.05   4.0            0.038\n",
       "2018-07-10  0.26  -3.8            0.082"
      ]
     },
     "execution_count": 38,
     "metadata": {},
     "output_type": "execute_result"
    }
   ],
   "source": [
    "test.head(5)"
   ]
  },
  {
   "cell_type": "code",
   "execution_count": 39,
   "id": "96fab3d7",
   "metadata": {},
   "outputs": [
    {
     "data": {
      "text/html": [
       "<div>\n",
       "<style scoped>\n",
       "    .dataframe tbody tr th:only-of-type {\n",
       "        vertical-align: middle;\n",
       "    }\n",
       "\n",
       "    .dataframe tbody tr th {\n",
       "        vertical-align: top;\n",
       "    }\n",
       "\n",
       "    .dataframe thead th {\n",
       "        text-align: right;\n",
       "    }\n",
       "</style>\n",
       "<table border=\"1\" class=\"dataframe\">\n",
       "  <thead>\n",
       "    <tr style=\"text-align: right;\">\n",
       "      <th></th>\n",
       "      <th>WTI</th>\n",
       "      <th>GOLD</th>\n",
       "      <th>US DOLLAR INDEX</th>\n",
       "    </tr>\n",
       "    <tr>\n",
       "      <th>Date</th>\n",
       "      <th></th>\n",
       "      <th></th>\n",
       "      <th></th>\n",
       "    </tr>\n",
       "  </thead>\n",
       "  <tbody>\n",
       "    <tr>\n",
       "      <th>2000-01-05</th>\n",
       "      <td>-0.64</td>\n",
       "      <td>-1.6</td>\n",
       "      <td>-0.05</td>\n",
       "    </tr>\n",
       "    <tr>\n",
       "      <th>2000-01-06</th>\n",
       "      <td>-0.13</td>\n",
       "      <td>0.3</td>\n",
       "      <td>0.29</td>\n",
       "    </tr>\n",
       "    <tr>\n",
       "      <th>2000-01-07</th>\n",
       "      <td>-0.56</td>\n",
       "      <td>0.5</td>\n",
       "      <td>0.16</td>\n",
       "    </tr>\n",
       "    <tr>\n",
       "      <th>2000-01-10</th>\n",
       "      <td>0.45</td>\n",
       "      <td>-0.2</td>\n",
       "      <td>0.15</td>\n",
       "    </tr>\n",
       "    <tr>\n",
       "      <th>2000-01-11</th>\n",
       "      <td>1.10</td>\n",
       "      <td>1.7</td>\n",
       "      <td>-0.39</td>\n",
       "    </tr>\n",
       "  </tbody>\n",
       "</table>\n",
       "</div>"
      ],
      "text/plain": [
       "             WTI  GOLD  US DOLLAR INDEX\n",
       "Date                                   \n",
       "2000-01-05 -0.64  -1.6            -0.05\n",
       "2000-01-06 -0.13   0.3             0.29\n",
       "2000-01-07 -0.56   0.5             0.16\n",
       "2000-01-10  0.45  -0.2             0.15\n",
       "2000-01-11  1.10   1.7            -0.39"
      ]
     },
     "execution_count": 39,
     "metadata": {},
     "output_type": "execute_result"
    }
   ],
   "source": [
    "train.head(5)"
   ]
  },
  {
   "cell_type": "code",
   "execution_count": 43,
   "id": "dfcd87db",
   "metadata": {},
   "outputs": [
    {
     "name": "stdout",
     "output_type": "stream",
     "text": [
      "Order = 1\n",
      "AIC:  4.3633071442142874\n",
      "BIC:  4.379965670754019\n",
      "\n",
      "Order = 2\n",
      "AIC:  4.359894415956452\n",
      "BIC:  4.389052144954216\n",
      "\n",
      "Order = 3\n",
      "AIC:  4.362160584594745\n",
      "BIC:  4.403822068350415\n",
      "\n",
      "Order = 4\n",
      "AIC:  4.361069128704635\n",
      "BIC:  4.415238922192087\n",
      "\n",
      "Order = 5\n",
      "AIC:  4.361620644923903\n",
      "BIC:  4.428303305793169\n",
      "\n",
      "Order = 6\n",
      "AIC:  4.364858762034754\n",
      "BIC:  4.4440588506141765\n",
      "\n",
      "Order = 7\n",
      "AIC:  4.367666135134497\n",
      "BIC:  4.459388214432878\n",
      "\n",
      "Order = 8\n",
      "AIC:  4.367562837979706\n",
      "BIC:  4.471811473688472\n",
      "\n",
      "Order = 9\n",
      "AIC:  4.366693951434903\n",
      "BIC:  4.483473711930262\n",
      "\n",
      "Order = 10\n",
      "AIC:  4.3685131950218725\n",
      "BIC:  4.497828651366975\n",
      "\n",
      "Order = 11\n",
      "AIC:  4.369853900805661\n",
      "BIC:  4.511709626752765\n",
      "\n",
      "Order = 12\n",
      "AIC:  4.36988198135983\n",
      "BIC:  4.524282553352467\n",
      "\n",
      "Order = 13\n",
      "AIC:  4.370872781920602\n",
      "BIC:  4.537822779095749\n",
      "\n",
      "Order = 14\n",
      "AIC:  4.374035355371998\n",
      "BIC:  4.553539359562242\n",
      "\n",
      "Order = 15\n",
      "AIC:  4.376044607930713\n",
      "BIC:  4.568107203666432\n",
      "\n"
     ]
    }
   ],
   "source": [
    "from statsmodels.tsa.vector_ar.var_model import VAR\n",
    "for i in [1,2,3,4,5,6,7,8,9,10,11,12,13,14,15]:\n",
    "    model = VAR(train)\n",
    "    results = model.fit(i)\n",
    "    print('Order =', i)\n",
    "    print('AIC: ', results.aic)\n",
    "    print('BIC: ', results.bic)\n",
    "    print()"
   ]
  },
  {
   "cell_type": "code",
   "execution_count": 44,
   "id": "f560f2a6",
   "metadata": {},
   "outputs": [
    {
     "data": {
      "text/plain": [
       "  Summary of Regression Results   \n",
       "==================================\n",
       "Model:                         VAR\n",
       "Method:                        OLS\n",
       "Date:           Thu, 17, Nov, 2022\n",
       "Time:                     11:35:01\n",
       "--------------------------------------------------------------------\n",
       "No. of Equations:         3.00000    BIC:                    4.38905\n",
       "Nobs:                     4640.00    HQIC:                   4.37015\n",
       "Log likelihood:          -29845.6    FPE:                    78.2489\n",
       "AIC:                      4.35989    Det(Omega_mle):         77.8958\n",
       "--------------------------------------------------------------------\n",
       "Results for equation WTI\n",
       "=====================================================================================\n",
       "                        coefficient       std. error           t-stat            prob\n",
       "-------------------------------------------------------------------------------------\n",
       "const                      0.008281         0.020747            0.399           0.690\n",
       "L1.WTI                    -0.044906         0.015319           -2.931           0.003\n",
       "L1.GOLD                    0.000615         0.001522            0.404           0.686\n",
       "L1.US DOLLAR INDEX         0.042784         0.046090            0.928           0.353\n",
       "L2.WTI                    -0.041137         0.015322           -2.685           0.007\n",
       "L2.GOLD                    0.005947         0.001520            3.911           0.000\n",
       "L2.US DOLLAR INDEX        -0.019749         0.046191           -0.428           0.669\n",
       "=====================================================================================\n",
       "\n",
       "Results for equation GOLD\n",
       "=====================================================================================\n",
       "                        coefficient       std. error           t-stat            prob\n",
       "-------------------------------------------------------------------------------------\n",
       "const                      0.410163         0.209327            1.959           0.050\n",
       "L1.WTI                     0.406280         0.154562            2.629           0.009\n",
       "L1.GOLD                   -0.202259         0.015357          -13.171           0.000\n",
       "L1.US DOLLAR INDEX        -2.369425         0.465015           -5.095           0.000\n",
       "L2.WTI                    -0.250426         0.154591           -1.620           0.105\n",
       "L2.GOLD                   -0.028370         0.015340           -1.849           0.064\n",
       "L2.US DOLLAR INDEX        -0.483023         0.466035           -1.036           0.300\n",
       "=====================================================================================\n",
       "\n",
       "Results for equation US DOLLAR INDEX\n",
       "=====================================================================================\n",
       "                        coefficient       std. error           t-stat            prob\n",
       "-------------------------------------------------------------------------------------\n",
       "const                     -0.000135         0.006937           -0.019           0.985\n",
       "L1.WTI                    -0.006653         0.005122           -1.299           0.194\n",
       "L1.GOLD                   -0.000291         0.000509           -0.572           0.568\n",
       "L1.US DOLLAR INDEX        -0.020793         0.015410           -1.349           0.177\n",
       "L2.WTI                    -0.000690         0.005123           -0.135           0.893\n",
       "L2.GOLD                   -0.001157         0.000508           -2.277           0.023\n",
       "L2.US DOLLAR INDEX        -0.013841         0.015444           -0.896           0.370\n",
       "=====================================================================================\n",
       "\n",
       "Correlation matrix of residuals\n",
       "                        WTI      GOLD  US DOLLAR INDEX\n",
       "WTI                1.000000  0.222813        -0.234135\n",
       "GOLD               0.222813  1.000000        -0.240789\n",
       "US DOLLAR INDEX   -0.234135 -0.240789         1.000000\n",
       "\n"
      ]
     },
     "execution_count": 44,
     "metadata": {},
     "output_type": "execute_result"
    }
   ],
   "source": [
    "result = model.fit(2)\n",
    "result.summary()"
   ]
  },
  {
   "cell_type": "code",
   "execution_count": 45,
   "id": "87da0fa5",
   "metadata": {},
   "outputs": [],
   "source": [
    "lagged_Values = train.values[-3:]"
   ]
  },
  {
   "cell_type": "code",
   "execution_count": 47,
   "id": "03b3489c",
   "metadata": {},
   "outputs": [],
   "source": [
    "pred = result.forecast(y=lagged_Values, steps=248) \n",
    "\n",
    "idx = pd.date_range('2018-07-04\t', periods=248, freq='D')\n",
    "df_forecast=pd.DataFrame(data=pred, index=idx, columns=['WTI_2d', \"GOLD_2d\", 'US_DOLLAR_INDEX_2d'])"
   ]
  },
  {
   "cell_type": "code",
   "execution_count": 48,
   "id": "cac3e93c",
   "metadata": {},
   "outputs": [
    {
     "data": {
      "text/html": [
       "<div>\n",
       "<style scoped>\n",
       "    .dataframe tbody tr th:only-of-type {\n",
       "        vertical-align: middle;\n",
       "    }\n",
       "\n",
       "    .dataframe tbody tr th {\n",
       "        vertical-align: top;\n",
       "    }\n",
       "\n",
       "    .dataframe thead th {\n",
       "        text-align: right;\n",
       "    }\n",
       "</style>\n",
       "<table border=\"1\" class=\"dataframe\">\n",
       "  <thead>\n",
       "    <tr style=\"text-align: right;\">\n",
       "      <th></th>\n",
       "      <th>WTI_2d</th>\n",
       "      <th>GOLD_2d</th>\n",
       "      <th>US_DOLLAR_INDEX_2d</th>\n",
       "    </tr>\n",
       "  </thead>\n",
       "  <tbody>\n",
       "    <tr>\n",
       "      <th>2018-07-04</th>\n",
       "      <td>-0.090291</td>\n",
       "      <td>-0.852783</td>\n",
       "      <td>0.012695</td>\n",
       "    </tr>\n",
       "    <tr>\n",
       "      <th>2018-07-05</th>\n",
       "      <td>0.083332</td>\n",
       "      <td>0.299793</td>\n",
       "      <td>-0.008612</td>\n",
       "    </tr>\n",
       "    <tr>\n",
       "      <th>2018-07-06</th>\n",
       "      <td>0.002747</td>\n",
       "      <td>0.444462</td>\n",
       "      <td>0.000276</td>\n",
       "    </tr>\n",
       "    <tr>\n",
       "      <th>2018-07-07</th>\n",
       "      <td>0.006968</td>\n",
       "      <td>0.295514</td>\n",
       "      <td>-0.000573</td>\n",
       "    </tr>\n",
       "    <tr>\n",
       "      <th>2018-07-08</th>\n",
       "      <td>0.010650</td>\n",
       "      <td>0.341151</td>\n",
       "      <td>-0.000775</td>\n",
       "    </tr>\n",
       "  </tbody>\n",
       "</table>\n",
       "</div>"
      ],
      "text/plain": [
       "              WTI_2d   GOLD_2d  US_DOLLAR_INDEX_2d\n",
       "2018-07-04 -0.090291 -0.852783            0.012695\n",
       "2018-07-05  0.083332  0.299793           -0.008612\n",
       "2018-07-06  0.002747  0.444462            0.000276\n",
       "2018-07-07  0.006968  0.295514           -0.000573\n",
       "2018-07-08  0.010650  0.341151           -0.000775"
      ]
     },
     "execution_count": 48,
     "metadata": {},
     "output_type": "execute_result"
    }
   ],
   "source": [
    "df_forecast.head(5)"
   ]
  },
  {
   "cell_type": "code",
   "execution_count": 49,
   "id": "8e444a82",
   "metadata": {},
   "outputs": [],
   "source": [
    "forecast_final = pd.DataFrame()"
   ]
  },
  {
   "cell_type": "code",
   "execution_count": 50,
   "id": "db7b361d",
   "metadata": {},
   "outputs": [],
   "source": [
    "#WTI\n",
    "df_forecast['WTI1d'] = (df['WTI'].iloc[-test_obs-1]-df['WTI'].iloc[-test_obs-2]) + df_forecast['WTI_2d'].cumsum()\n",
    "forecast_final['WTIForecast'] = df['WTI'].iloc[-test_obs-1] + df_forecast['WTI1d'].cumsum()\n",
    "\n",
    "df_forecast['GOLD1d'] = (df['GOLD'].iloc[-test_obs-1]-df['GOLD'].iloc[-test_obs-2]) + df_forecast['GOLD_2d'].cumsum()\n",
    "forecast_final['GOLDForecast'] = df['GOLD'].iloc[-test_obs-1] + df_forecast['GOLD1d'].cumsum()\n",
    "\n",
    "df_forecast['US DOLLAR INDEX1d'] = (df['US DOLLAR INDEX'].iloc[-test_obs-1]-df['US DOLLAR INDEX'].iloc[-test_obs-2]) + df_forecast['US_DOLLAR_INDEX_2d'].cumsum()\n",
    "forecast_final['US DOLLAR INDEXForecast'] = df['US DOLLAR INDEX'].iloc[-test_obs-1] + df_forecast['US DOLLAR INDEX1d'].cumsum()\n",
    "\n",
    "# df_forecast['DJU1d'] = (df['DJU'].iloc[-test_obs-1]-df['DJU'].iloc[-test_obs-2]) + df_forecast['DJU_2d'].cumsum()\n",
    "# forecast_final['DJUForecast'] = df['DJU'].iloc[-test_obs-1] + df_forecast['DJU1d'].cumsum()\n",
    "\n",
    "# df_forecast['SP 5001d'] = (df['SP 500'].iloc[-test_obs-1]-df['SP 500'].iloc[-test_obs-2]) + df_forecast['SP500_2d'].cumsum()\n",
    "# forecast_final['SP 500Forecast'] = df['SP 500'].iloc[-test_obs-1] + df_forecast['SP 5001d'].cumsum()\n",
    "\n",
    "# df_forecast['US 10YR BOND1d'] = (df['US 10YR BOND'].iloc[-test_obs-1]-df['US 10YR BOND'].iloc[-test_obs-2]) + df_forecast['US_10YR_BOND_2d'].cumsum()\n",
    "# forecast_final['US 10YR BONDForecast'] = df['US 10YR BOND'].iloc[-test_obs-1] + df_forecast['US 10YR BOND1d'].cumsum()"
   ]
  },
  {
   "cell_type": "markdown",
   "id": "f495abda",
   "metadata": {},
   "source": [
    "# Predicting for a week"
   ]
  },
  {
   "cell_type": "code",
   "execution_count": 51,
   "id": "5daf6695",
   "metadata": {},
   "outputs": [
    {
     "data": {
      "text/plain": [
       "<AxesSubplot:>"
      ]
     },
     "execution_count": 51,
     "metadata": {},
     "output_type": "execute_result"
    },
    {
     "data": {
      "image/png": "[encoded data removed]",
      "text/plain": [
       "<Figure size 1200x500 with 1 Axes>"
      ]
     },
     "metadata": {},
     "output_type": "display_data"
    }
   ],
   "source": [
    "final = forecast_final.join(test_orig).dropna().head(7)\n",
    "final['WTI'].plot(figsize=(12,5),legend=True)\n",
    "final['WTIForecast'].plot(legend=True)"
   ]
  },
  {
   "cell_type": "code",
   "execution_count": 53,
   "id": "84ab68be",
   "metadata": {},
   "outputs": [
    {
     "data": {
      "text/plain": [
       "0.032687409118722734"
      ]
     },
     "execution_count": 53,
     "metadata": {},
     "output_type": "execute_result"
    }
   ],
   "source": [
    "from sklearn.metrics import mean_absolute_percentage_error\n",
    "mean_absolute_percentage_error(final['WTI'], final['WTIForecast'])"
   ]
  },
  {
   "cell_type": "markdown",
   "id": "9875e231",
   "metadata": {},
   "source": [
    "# Prediction for a month"
   ]
  },
  {
   "cell_type": "code",
   "execution_count": 54,
   "id": "606afd39",
   "metadata": {},
   "outputs": [],
   "source": [
    "final = forecast_final.join(test_orig).dropna().head(30)"
   ]
  },
  {
   "cell_type": "code",
   "execution_count": 55,
   "id": "017a0ac5",
   "metadata": {},
   "outputs": [
    {
     "data": {
      "text/plain": [
       "<AxesSubplot:>"
      ]
     },
     "execution_count": 55,
     "metadata": {},
     "output_type": "execute_result"
    },
    {
     "data": {
      "image/png": "[encoded data removed]",
      "text/plain": [
       "<Figure size 1200x500 with 1 Axes>"
      ]
     },
     "metadata": {},
     "output_type": "display_data"
    }
   ],
   "source": [
    "final['WTI'].plot(figsize=(12,5),legend=True)\n",
    "final['WTIForecast'].plot(legend=True)"
   ]
  },
  {
   "cell_type": "code",
   "execution_count": 56,
   "id": "6b6096c9",
   "metadata": {},
   "outputs": [
    {
     "data": {
      "text/plain": [
       "0.16118310584943255"
      ]
     },
     "execution_count": 56,
     "metadata": {},
     "output_type": "execute_result"
    }
   ],
   "source": [
    "mean_absolute_percentage_error(final['WTI'], final['WTIForecast'])"
   ]
  },
  {
   "cell_type": "code",
   "execution_count": 57,
   "id": "49b3fd7e",
   "metadata": {},
   "outputs": [],
   "source": [
    "# df.corr()"
   ]
  },
  {
   "cell_type": "markdown",
   "id": "10931146",
   "metadata": {},
   "source": [
    "# Predicting for whole test set"
   ]
  },
  {
   "cell_type": "code",
   "execution_count": 58,
   "id": "3884819f",
   "metadata": {},
   "outputs": [],
   "source": [
    "final = forecast_final.join(test_orig).dropna()"
   ]
  },
  {
   "cell_type": "code",
   "execution_count": 60,
   "id": "db975898",
   "metadata": {},
   "outputs": [
    {
     "data": {
      "text/plain": [
       "<AxesSubplot:>"
      ]
     },
     "execution_count": 60,
     "metadata": {},
     "output_type": "execute_result"
    },
    {
     "data": {
      "image/png": "[encoded data removed]",
      "text/plain": [
       "<Figure size 1200x500 with 1 Axes>"
      ]
     },
     "metadata": {},
     "output_type": "display_data"
    }
   ],
   "source": [
    "final['WTI'].plot(figsize=(12,5),legend=True)\n",
    "final['WTIForecast'].plot(legend=True)"
   ]
  },
  {
   "cell_type": "code",
   "execution_count": 61,
   "id": "d01b942c",
   "metadata": {},
   "outputs": [
    {
     "data": {
      "text/plain": [
       "2.432422341547191"
      ]
     },
     "execution_count": 61,
     "metadata": {},
     "output_type": "execute_result"
    }
   ],
   "source": [
    "mean_absolute_percentage_error(final['WTI'], final['WTIForecast'])"
   ]
  }
 ],
 "metadata": {
  "kernelspec": {
   "display_name": "Python 3.9.12 ('base')",
   "language": "python",
   "name": "python3"
  },
  "language_info": {
   "codemirror_mode": {
    "name": "ipython",
    "version": 3
   },
   "file_extension": ".py",
   "mimetype": "text/x-python",
   "name": "python",
   "nbconvert_exporter": "python",
   "pygments_lexer": "ipython3",
   "version": "3.9.12"
  },
  "vscode": {
   "interpreter": {
    "hash": "20a9e06a1eee47c4abbed4ec8225ad91d78d9800d202b71b6b0a6e47016c6abd"
   }
  }
 },
 "nbformat": 4,
 "nbformat_minor": 5
}
